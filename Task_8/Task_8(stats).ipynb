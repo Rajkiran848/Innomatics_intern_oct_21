{
  "nbformat": 4,
  "nbformat_minor": 0,
  "metadata": {
    "colab": {
      "name": "Task_8(stats).ipynb",
      "provenance": []
    },
    "kernelspec": {
      "name": "python3",
      "display_name": "Python 3"
    },
    "language_info": {
      "name": "python"
    }
  },
  "cells": [
    {
      "cell_type": "markdown",
      "metadata": {
        "id": "Ct4xzxQ-xhM-"
      },
      "source": [
        "### **Binomial Distribution I**\n",
        "\n",
        "Objective\n",
        "In this challenge, we learn about binomial distributions. Check out the Tutorial tab for learning materials!\n",
        "\n",
        "Task\n",
        "The ratio of boys to girls for babies born in Russia is 1.09:1 . If there is 1 child born per birth, what proportion of Russian families with exactly 6 children will have at least 3 boys?\n",
        "\n",
        "Write a program to compute the answer using the above parameters. Then print your result, rounded to a scale of  decimal places (i.e.,1.234 format).\n",
        "\n",
        "Input Format\n",
        "\n",
        "A single line containing the following values:\n",
        "\n",
        "1.09 1\n",
        "If you do not wish to read this information from stdin, you can hard-code it into your program.\n",
        "\n",
        "Output Format\n",
        "\n",
        "Print a single line denoting the answer, rounded to a scale 3 of  decimal places (i.e., 1.234 format).\n",
        "\n"
      ]
    },
    {
      "cell_type": "code",
      "metadata": {
        "colab": {
          "base_uri": "https://localhost:8080/"
        },
        "id": "Vdj-RbW9yOXg",
        "outputId": "93196ef4-8a4b-40bb-f164-2123650c1868"
      },
      "source": [
        "def fact(n):\n",
        "    return 1 if n == 0 else n*fact(n-1)\n",
        "\n",
        "def comb(n, x):\n",
        "    return fact(n) / (fact(x) * fact(n-x))\n",
        "\n",
        "def bino(x, n, p):\n",
        "    return comb(n, x) * p**x * (1-p)**(n-x)\n",
        "\n",
        "babies, rus = list(map(float, input().split(\" \")))\n",
        "odds = babies / rus\n",
        "print(round(sum([bino(i, 6, odds / (1 + odds)) for i in range(3, 7)]), 3))"
      ],
      "execution_count": 3,
      "outputs": [
        {
          "output_type": "stream",
          "name": "stdout",
          "text": [
            "1.09 1\n",
            "0.696\n"
          ]
        }
      ]
    },
    {
      "cell_type": "markdown",
      "metadata": {
        "id": "HD2y85Kk2FQk"
      },
      "source": [
        "### **Binomial Distribution II**\n",
        "\n",
        "Task\n",
        "A manufacturer of metal pistons finds that, on average,12%  of the pistons they manufacture are rejected because they are incorrectly sized. What is the probability that a batch of  10 pistons will contain:\n",
        "\n",
        "No more than 2 rejects?\n",
        "At least 2 rejects?\n",
        "Input Format\n",
        "\n",
        "A single line containing the following values (denoting the respective percentage of defective pistons and the size of the current batch of pistons):\n",
        "\n",
        "12 10\n",
        "\n",
        "Output Format\n",
        "\n",
        "Print the answer to each question on its own line:\n",
        "\n",
        "The first line should contain the probability that a batch of 10 pistons will contain no more than 2 rejects.\n",
        "The second line should contain the probability that a batch of 10 pistons will contain at least 2 rejects.\n",
        "Round both of your answers to a scale of 3 decimal places (i.e.,1.234  format)."
      ]
    },
    {
      "cell_type": "code",
      "metadata": {
        "colab": {
          "base_uri": "https://localhost:8080/"
        },
        "id": "UyXkNMvO3eIZ",
        "outputId": "c12992c2-bef4-4441-f195-e29e9a20241e"
      },
      "source": [
        "def fact(n):\n",
        "    return 1 if n == 0 else n*fact(n-1)\n",
        "\n",
        "def comb(n, x):\n",
        "    return fact(n) / (fact(x) * fact(n-x))\n",
        "\n",
        "def bino(x, n, p):\n",
        "    return comb(n, x) * p**x * (1-p)**(n-x)\n",
        "prob, num = list(map(int, input().split()))\n",
        "print(round(sum([bino(i, num, prob/100) for i in range(3)]), 3))\n",
        "print(round(sum([bino(i, num, prob/100) for i in range(2, num+1)]), 3))"
      ],
      "execution_count": 6,
      "outputs": [
        {
          "output_type": "stream",
          "name": "stdout",
          "text": [
            "12 10\n",
            "0.891\n",
            "0.342\n"
          ]
        }
      ]
    },
    {
      "cell_type": "markdown",
      "metadata": {
        "id": "3vM9Nm6dAlli"
      },
      "source": [
        "### **Normal Distribution**\n",
        "\n",
        "Task\n",
        "In a certain plant, the time taken to assemble a car is a random variable,X , having a normal distribution with a mean of 20 hours and a standard deviation of 2 hours. What is the probability that a car can be assembled at this plant in:\n",
        "\n",
        "Less than 19.5 hours?\n",
        "Between 20 and 22 hours?\n",
        "Input Format\n",
        "\n",
        "There are 3 lines of input (shown below):\n",
        "\n",
        "20 2\n",
        "19.5\n",
        "20 22\n",
        "The first line contains 2 space-separated values denoting the respective mean and standard deviation for X. The second line contains the number associated with question 1. The third line contains 2 space-separated values describing the respective lower and upper range boundaries for question 2.\n",
        "\n",
        "If you do not wish to read this information from stdin, you can hard-code it into your program.\n",
        "\n",
        "Output Format\n",
        "\n",
        "There are two lines of output. Your answers must be rounded to a scale of 3 decimal places (i.e.,1.234  format):\n",
        "\n",
        "On the first line, print the answer to question 1 (i.e., the probability that a car can be assembled in less than 19.5 hours).\n",
        "On the second line, print the answer to question 2 (i.e., the probability that a car can be assembled in between 20 to 22 hours)"
      ]
    },
    {
      "cell_type": "code",
      "metadata": {
        "colab": {
          "base_uri": "https://localhost:8080/"
        },
        "id": "i-UQO3d2_0PW",
        "outputId": "c3817a91-d53e-4065-96a7-17883a8bdf16"
      },
      "source": [
        "import math\n",
        "\n",
        "def cdf(mean, standard, x):\n",
        "    return  0.5 * (1 + math.erf((x - mean) / (std * (2 ** 0.5))))\n",
        "\n",
        "mean,standard= list(map(float, input().split(' ')))\n",
        "hour1 = float(input())\n",
        "hour_2, hour_3 = list(map(float, input().split(' ')))\n",
        "    \n",
        "print(\"%.3f\" % cdf(mean,standard , hour1))\n",
        "print(\"%.3f\" % (cdf(mean, standard, hour_2) - cdf(mean, standard, hour_3)))"
      ],
      "execution_count": 12,
      "outputs": [
        {
          "output_type": "stream",
          "name": "stdout",
          "text": [
            "20 2\n",
            "19.5\n",
            "20 22\n",
            "0.401\n",
            "-0.341\n"
          ]
        }
      ]
    },
    {
      "cell_type": "markdown",
      "metadata": {
        "id": "20r1Bj8aJwcQ"
      },
      "source": [
        "### **Normal Distribution II**\n",
        "\n",
        "Objective In this challenge, we go further with normal distributions. We recommend reviewing the previous challenge's Tutorial before attempting this problem.\n",
        "\n",
        "Task The final grades for a Physics exam taken by a large group of students have a mean of and a standard deviation of . If we can approximate the distribution of these grades by a normal distribution, what percentage of the students:\n",
        "\n",
        "Scored higher than (i.e., have a )? Passed the test (i.e., have a )? Failed the test (i.e., have a )? Find and print the answer to each question on a new line, rounded to a scale of decimal places.\n",
        "\n",
        "Input Format\n",
        "\n",
        "There are lines of input (shown below):\n",
        "\n",
        "70 10 80 60 The first line contains space-separated values denoting the respective mean and standard deviation for the exam. The second line contains the number associated with question . The third line contains the pass/fail threshold number associated with questions and .\n",
        "\n",
        "If you do not wish to read this information from stdin, you can hard-code it into your program.\n",
        "\n",
        "Output Format\n",
        "\n",
        "There are three lines of output. Your answers must be rounded to a scale of decimal places (i.e., format):\n",
        "\n",
        "On the first line, print the answer to question (i.e., the percentage of students having ). On the second line, print the answer to question (i.e., the percentage of students having ). On the third line, print the answer to question (i.e., the percentage of students having )."
      ]
    },
    {
      "cell_type": "code",
      "metadata": {
        "colab": {
          "base_uri": "https://localhost:8080/"
        },
        "id": "e8ItM_mkFLt9",
        "outputId": "064d6864-10e2-4a11-ed58-6cba61543a4e"
      },
      "source": [
        "import math\n",
        "\n",
        "mean, std = 70, 10\n",
        "cdf = lambda x: 0.5 * (1 + math.erf((x - mean) / (std * (2 ** 0.5))))\n",
        "\n",
        "#grade >80\n",
        "print('{:.2f}'.format((1 - cdf(80))* 100))\n",
        "#grade >=60\n",
        "print('{:.2f}'.format((1- cdf(60))* 100))\n",
        "#grade <60\n",
        "print('{:.2f}'.format(cdf(60)*100))"
      ],
      "execution_count": 17,
      "outputs": [
        {
          "output_type": "stream",
          "name": "stdout",
          "text": [
            "15.87\n",
            "84.13\n",
            "15.87\n"
          ]
        }
      ]
    },
    {
      "cell_type": "markdown",
      "metadata": {
        "id": "u1DssU5GPvIu"
      },
      "source": [
        "### **The Central Limit Theorem I**\n",
        "Objective In this challenge, we practice solving problems based on the Central Limit Theorem. Check out the Tutorial tab for learning materials!\n",
        "\n",
        "Task A large elevator can transport a maximum of pounds. Suppose a load of cargo containing boxes must be transported via the elevator. The box weight of this type of cargo follows a distribution with a mean of pounds and a standard deviation of pounds. Based on this information, what is the probability that all boxes can be safely loaded into the freight elevator and transported?\n",
        "\n",
        "Input Format\n",
        "\n",
        "There are lines of input (shown below):\n",
        "\n",
        "9800 49 205 15 The first line contains the maximum weight the elevator can transport. The second line contains the number of boxes in the cargo. The third line contains the mean weight of a cargo box, and the fourth line contains its standard deviation.\n",
        "\n",
        "If you do not wish to read this information from stdin, you can hard-code it into your program.\n",
        "\n",
        "Output Format\n",
        "\n",
        "Print the probability that the elevator can successfully transport all boxes, rounded to a scale of decimal places (i.e., format)."
      ]
    },
    {
      "cell_type": "code",
      "metadata": {
        "colab": {
          "base_uri": "https://localhost:8080/"
        },
        "id": "yCaoY7JcLxjy",
        "outputId": "28381caf-e9f3-4b9c-deeb-a5e6d95b3901"
      },
      "source": [
        "import math\n",
        "\n",
        "x,n,mu,sigma =[int(input()) for _ in range(4)]\n",
        "\n",
        "mu_sum = n* mu\n",
        "sigma_sum = math.sqrt(n) * sigma\n",
        "\n",
        "def distribution(y, mu, sigma):\n",
        "    Z = (y - mu)/sigma\n",
        "    return 0.5*(1 + math.erf(Z/(math.sqrt(2))))\n",
        "\n",
        "print(round(distribution(x, mu_sum, sigma_sum), 4))"
      ],
      "execution_count": 18,
      "outputs": [
        {
          "output_type": "stream",
          "name": "stdout",
          "text": [
            "9800\n",
            "49\n",
            "205\n",
            "15\n",
            "0.0098\n"
          ]
        }
      ]
    },
    {
      "cell_type": "markdown",
      "metadata": {
        "id": "2HYbtsSNSAjC"
      },
      "source": [
        "### **The Central Limit Theorem II**\n",
        "Objective In this challenge, we practice solving problems based on the Central Limit Theorem. We recommend reviewing the Central Limit Theorem Tutorial before attempting this challenge.\n",
        "\n",
        "Task The number of tickets purchased by each student for the University X vs. University Y football game follows a distribution that has a mean of and a standard deviation of .\n",
        "\n",
        "A few hours before the game starts, eager students line up to purchase last-minute tickets. If there are only tickets left, what is the probability that all students will be able to purchase tickets?\n",
        "\n",
        "Input Format\n",
        "\n",
        "There are lines of input (shown below):\n",
        "\n",
        "250 100 2.4 2.0 The first line contains the number of last-minute tickets available at the box office. The second line contains the number of students waiting to buy tickets. The third line contains the mean number of purchased tickets, and the fourth line contains the standard deviation.\n",
        "\n",
        "If you do not wish to read this information from stdin, you can hard-code it into your program.\n",
        "\n",
        "Output Format\n",
        "\n",
        "Print the probability that students can successfully purchase the remaining tickets, rounded to a scale of decimal places (i.e., format).\n",
        "\n"
      ]
    },
    {
      "cell_type": "code",
      "metadata": {
        "colab": {
          "base_uri": "https://localhost:8080/"
        },
        "id": "ydikZUR5Ru9c",
        "outputId": "7edf9313-1429-4f28-99e3-b7b9686206f5"
      },
      "source": [
        "import math\n",
        "import numpy\n",
        "\n",
        "x,n,mu,sigma =([float(input()) for _ in range(4)])\n",
        "\n",
        "mu_sum = n* mu\n",
        "sigma_sum = math.sqrt(n) * sigma\n",
        "\n",
        "def distribution(y, mu, sigma):\n",
        "    Z = (y - mu)/sigma\n",
        "    return 0.5*(1 + math.erf(Z/(math.sqrt(2))))\n",
        "\n",
        "print(round(distribution(x, mu_sum, sigma_sum), 4))"
      ],
      "execution_count": 23,
      "outputs": [
        {
          "output_type": "stream",
          "name": "stdout",
          "text": [
            "250\n",
            "100\n",
            "2.4\n",
            "2.0\n",
            "0.6915\n"
          ]
        }
      ]
    },
    {
      "cell_type": "markdown",
      "metadata": {
        "id": "fY5BXoBBUazd"
      },
      "source": [
        "### **The Central Limit Theorem III**\n",
        "Objective In this challenge, we practice solving problems based on the Central Limit Theorem. We recommend reviewing the Central Limit Theorem Tutorial before attempting this challenge.\n",
        "\n",
        "Task You have a sample of values from a population with mean and with standard deviation . Compute the interval that covers the middle of the distribution of the sample mean; in other words, compute and such that . Use the value of . Note that is the z-score.\n",
        "\n",
        "Input Format\n",
        "\n",
        "There are five lines of input (shown below):\n",
        "\n",
        "100 500 80 .95 1.96 The first line contains the sample size. The second and third lines contain the respective mean () and standard deviation (). The fourth line contains the distribution percentage we want to cover (as a decimal), and the fifth line contains the value of .\n",
        "\n",
        "If you do not wish to read this information from stdin, you can hard-code it into your program.\n",
        "\n",
        "Output Format\n",
        "\n",
        "Print the following two lines of output, rounded to a scale of decimal places (i.e., format):\n",
        "\n",
        "On the first line, print the value of . On the second line, print the value of ."
      ]
    },
    {
      "cell_type": "code",
      "metadata": {
        "colab": {
          "base_uri": "https://localhost:8080/"
        },
        "id": "M78cIJswTOpr",
        "outputId": "91e4d632-4451-4a56-fc00-1624eea0cf10"
      },
      "source": [
        "n,mu,sigma,prob,z_score=[float(input()) for _ in range(5)]\n",
        "sample_val = sigma / (n**0.5)\n",
        "print(round(mu - sample_val*z_score,2))\n",
        "print(round(mu + sample_val*z_score,2))"
      ],
      "execution_count": 25,
      "outputs": [
        {
          "output_type": "stream",
          "name": "stdout",
          "text": [
            "100\n",
            "500\n",
            "80\n",
            ".95\n",
            "1.96\n",
            "484.32\n",
            "515.68\n"
          ]
        }
      ]
    },
    {
      "cell_type": "markdown",
      "metadata": {
        "id": "AUtCinIhb4hH"
      },
      "source": [
        "### **Pearson Correlation Coefficient**\n",
        "\n",
        "\n",
        "In this challenge, we practice calculating the Pearson correlation coefficient. Check out the Tutorial tab for learning materials!\n",
        "\n",
        "Task Given two -element data sets, and , calculate the value of the Pearson correlation coefficient.\n",
        "\n",
        "Input Format\n",
        "\n",
        "The first line contains an integer, , denoting the size of data sets and . The second line contains space-separated real numbers (scaled to at most one decimal place), defining data set . The third line contains space-separated real numbers (scaled to at most one decimal place), defining data set .\n",
        "\n",
        "Constraints\n",
        "\n",
        ", where is the value of data set . , where is the value of data set . Data set contains unique values. Data set contains unique values. Output Format\n",
        "\n",
        "Print the value of the Pearson correlation coefficient, rounded to a scale of decimal places.\n",
        "\n",
        "Sample Input\n",
        "\n",
        "10 10 9.8 8 7.8 7.7 7 6 5 4 2 200 44 32 24 22 17 15 12 8 4 Sample Output\n",
        "\n",
        "0.612 Explanation\n",
        "\n",
        "The mean and standard deviation of data set are:\n",
        "\n",
        "The mean and standard deviation of data set are:\n",
        "\n",
        "We use the following formula to calculate the Pearson correlation coefficient:"
      ]
    },
    {
      "cell_type": "code",
      "metadata": {
        "colab": {
          "base_uri": "https://localhost:8080/"
        },
        "id": "EIzwOTOydFNI",
        "outputId": "5df759d7-7651-42b7-a599-65c289734514"
      },
      "source": [
        "N= int(input())\n",
        "#X,Y=[list(map(float,input().split())) for_ in range(2)]\n",
        "X = list(map(float,input().split()))\n",
        "Y = list(map(float,input().split()))\n",
        "\n",
        "mu_x = sum(X) / N\n",
        "mu_y = sum(Y) / N\n",
        "\n",
        "stdv_x = (sum([(i - mu_x)**2 for i in X]) / N)**0.5\n",
        "stdv_y = (sum([(i - mu_y)**2 for i in Y]) / N)**0.5\n",
        "\n",
        "\n",
        "covariance = sum([(X[i] - mu_x) * (Y[i] -mu_y) for i in range(N)])\n",
        "\n",
        "correlation_coefficient = covariance / (N * stdv_x * stdv_y)\n",
        "\n",
        "print(round(correlation_coefficient,3))"
      ],
      "execution_count": 30,
      "outputs": [
        {
          "output_type": "stream",
          "name": "stdout",
          "text": [
            "10\n",
            "10 9.8 8 7.8 7.7 7 6 5 4 2\n",
            "200 44 32 24 22 17 15 12 8 4\n",
            "0.612\n"
          ]
        }
      ]
    },
    {
      "cell_type": "markdown",
      "metadata": {
        "id": "M4sqbcNMfe5k"
      },
      "source": [
        "### **Least Square Regression Line**\n",
        "Objective In this challenge, we practice using linear regression techniques. Check out the Tutorial tab for learning materials!\n",
        "\n",
        "Task A group of five students enrolls in Statistics immediately after taking a Math aptitude test. Each student's Math aptitude test score, , and Statistics course grade, , can be expressed as the following list of points:\n",
        "\n",
        "If a student scored an on the Math aptitude test, what grade would we expect them to achieve in Statistics? Determine the equation of the best-fit line using the least squares method, then compute and print the value of when .\n",
        "\n",
        "Input Format\n",
        "\n",
        "There are five lines of input; each line contains two space-separated integers describing a student's respective and grades:\n",
        "\n",
        "95 85 85 95 80 70 70 65 60 70 If you do not wish to read this information from stdin, you can hard-code it into your program.\n",
        "\n",
        "Output Format\n",
        "\n",
        "Print a single line denoting the answer, rounded to a scale of decimal places (i.e., format)"
      ]
    },
    {
      "cell_type": "code",
      "metadata": {
        "colab": {
          "base_uri": "https://localhost:8080/"
        },
        "id": "A5p3OWTEdt_d",
        "outputId": "170442ce-bbb5-4358-8ebb-e97ad421198e"
      },
      "source": [
        "scores= []\n",
        "for i in range(5):\n",
        "  scores.append(tuple(map(int, input().strip().split(' '))))\n",
        "        \n",
        "sum_x = sum([score[0] for score in scores])\n",
        "sum_y = sum([score[1] for score in scores])\n",
        "sum_x2 = sum([score[0]**2 for score in scores])\n",
        "sum_xy = sum([score[0]*score[1] for score in scores])\n",
        "n = len(scores)\n",
        "m = ((n*sum_xy)-(sum_x*sum_y)) / ((n*sum_x2)-sum_x**2)\n",
        "b = (sum_y - m*sum_x)/n\n",
        "print(round(m*80+b, 3))"
      ],
      "execution_count": 36,
      "outputs": [
        {
          "output_type": "stream",
          "name": "stdout",
          "text": [
            "95 85\n",
            "85 95\n",
            "80 70\n",
            "70 65\n",
            " 60 70\n",
            "78.288\n"
          ]
        }
      ]
    },
    {
      "cell_type": "markdown",
      "metadata": {
        "id": "Qr1x5g98iw8I"
      },
      "source": [
        "### **Multiple Linear Regression**\n",
        "Objective In this challenge, we practice using multiple linear regression. Check out the Tutorial tab for learning materials!\n",
        "\n",
        "Task Andrea has a simple equation:\n",
        "\n",
        "for real constants (, , , , ). We can say that the value of depends on features. Andrea studies this equation for different feature sets and records each respective value of . If she has new feature sets, can you help Andrea find the value of for each of the sets? Note: You are not expected to account for bias and variance trade-offs.\n",
        "\n",
        "Input Format\n",
        "\n",
        "The first line contains space-separated integers, (the number of observed features) and (the number of feature sets Andrea studied), respectively. Each of the subsequent lines contain space-separated decimals; the first elements are features , and the last element is the value of for the line's feature set. The next line contains a single integer, , denoting the number of feature sets Andrea wants to query for. Each of the subsequent lines contains space-separated decimals describing the feature sets."
      ]
    },
    {
      "cell_type": "code",
      "metadata": {
        "colab": {
          "base_uri": "https://localhost:8080/"
        },
        "id": "lgkB_pu1gtMv",
        "outputId": "f7de2777-9f83-41ab-bbf7-8833585b6afd"
      },
      "source": [
        "import numpy as np\n",
        "num1,num2=list(map(int,input().split()))\n",
        "x=np.ones((num2,num1+1))\n",
        "y=np.zeros((num2,1))\n",
        "for i in range(num2):\n",
        "    obs=np.array(list(map(float,input().split())))\n",
        "    for j in range(num1):\n",
        "        x[i,j+1]=obs[j]\n",
        "    y[i,0]=obs[num1]\n",
        "q=int(input())\n",
        "xtest=np.ones((q,num1+1))\n",
        "for i in range(q):\n",
        "    test=np.array(list(map(float,input().split())))\n",
        "    for j in range(num1):\n",
        "        xtest[i,j+1]=test[j]\n",
        "\n",
        "xtx=(x.T).dot(x)\n",
        "xtxinv=np.linalg.inv(xtx)\n",
        "xtxinvxt=xtxinv.dot(x.T)\n",
        "b=xtxinvxt.dot(y)\n",
        "\n",
        "for k in range(q):\n",
        "    print(float(xtest[k].dot(b)))\n"
      ],
      "execution_count": 41,
      "outputs": [
        {
          "output_type": "stream",
          "name": "stdout",
          "text": [
            "2 7\n",
            "0.18 0.89 109.85\n",
            "1.0 0.26 155.72\n",
            "0.92 0.11 137.66\n",
            "0.07 0.37 76.17\n",
            "0.85 0.16 139.75\n",
            "0.99 0.41 162.6\n",
            "0.87 0.47 151.77\n",
            "4\n",
            "0.49 0.18\n",
            "0.57 0.83\n",
            "0.56 0.64\n",
            "0.76 0.18\n",
            "105.21455835106919\n",
            "142.67095130729913\n",
            "132.9360546912468\n",
            "129.70175404502427\n"
          ]
        }
      ]
    },
    {
      "cell_type": "code",
      "metadata": {
        "id": "-V9DivzijsyX"
      },
      "source": [
        ""
      ],
      "execution_count": null,
      "outputs": []
    }
  ]
}