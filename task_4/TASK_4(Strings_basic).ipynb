{
  "nbformat": 4,
  "nbformat_minor": 0,
  "metadata": {
    "colab": {
      "name": "TASK_4(Strings).ipynb",
      "provenance": [],
      "collapsed_sections": []
    },
    "kernelspec": {
      "name": "python3",
      "display_name": "Python 3"
    },
    "language_info": {
      "name": "python"
    }
  },
  "cells": [
    {
      "cell_type": "markdown",
      "metadata": {
        "id": "TzM76N6SWfBW"
      },
      "source": [
        "### **sWAP cASE**"
      ]
    },
    {
      "cell_type": "markdown",
      "metadata": {
        "id": "EL1UBUo6WsAd"
      },
      "source": [
        "**TASK**\n",
        "\n",
        "You are given a string and your task is to swap cases. In other words, convert all lowercase letters to uppercase letters and vice versa."
      ]
    },
    {
      "cell_type": "code",
      "metadata": {
        "colab": {
          "base_uri": "https://localhost:8080/"
        },
        "id": "AHgofOghWyEg",
        "outputId": "72c0479e-9c55-4b17-d00f-79ca3a42af53"
      },
      "source": [
        "def swap_case(s):\n",
        "    return s.swapcase()\n",
        "\n",
        "if __name__ == '__main__':\n",
        "    s = input()\n",
        "    result = swap_case(s)\n",
        "    print(result)"
      ],
      "execution_count": null,
      "outputs": [
        {
          "output_type": "stream",
          "name": "stdout",
          "text": [
            "HackerRank.com presents \"Pythonist 2\".\n",
            "hACKERrANK.COM PRESENTS \"pYTHONIST 2\".\n"
          ]
        }
      ]
    },
    {
      "cell_type": "markdown",
      "metadata": {
        "id": "TSacpCv3ZF-E"
      },
      "source": [
        "### **String Split and Join**\n"
      ]
    },
    {
      "cell_type": "markdown",
      "metadata": {
        "id": "_n0VXEXIXpgJ"
      },
      "source": [
        "**TASK**\n",
        "\n",
        "You are given a string. Split the string on a \" \" (space) delimiter and join using a - hyphen.\n",
        "\n",
        "Function Description\n",
        "\n",
        "Complete the split_and_join function in the editor below.\n",
        "\n",
        "split_and_join has the following parameters:\n",
        "\n",
        "string line: a string of space-separated words"
      ]
    },
    {
      "cell_type": "code",
      "metadata": {
        "colab": {
          "base_uri": "https://localhost:8080/"
        },
        "id": "TRj8P-TxZX8h",
        "outputId": "a6e7be70-75b1-4ed6-be98-d1d0a448eb23"
      },
      "source": [
        "def split_and_join(line):\n",
        "    return('-'.join(line.split()))\n",
        "    # write your code here\n",
        "\n",
        "if __name__ == '__main__':\n",
        "    line = input()\n",
        "    result = split_and_join(line)\n",
        "    print(result)"
      ],
      "execution_count": null,
      "outputs": [
        {
          "output_type": "stream",
          "name": "stdout",
          "text": [
            "this is a string\n",
            "this-is-a-string\n"
          ]
        }
      ]
    },
    {
      "cell_type": "markdown",
      "metadata": {
        "id": "c1ZtvXREcqlD"
      },
      "source": [
        "### **What's Your Name**"
      ]
    },
    {
      "cell_type": "markdown",
      "metadata": {
        "id": "j3hLonU3Zdca"
      },
      "source": [
        "**TASK**\n",
        "\n",
        "You are given the firstname and lastname of a person on two different lines. Your task is to read them and print the following:\n",
        "\n",
        "Hello firstname lastname! You just delved into python."
      ]
    },
    {
      "cell_type": "code",
      "metadata": {
        "colab": {
          "base_uri": "https://localhost:8080/"
        },
        "id": "yJnnl83JdDH1",
        "outputId": "a0a7033e-fee7-4722-b03c-8bf16e50f513"
      },
      "source": [
        "def print_full_name(first, last):\n",
        "    print(\"Hello {0} {1}! You just delved into python.\".format(first,last))\n",
        "\n",
        "if __name__ == '__main__':\n",
        "    first_name = input()\n",
        "    last_name = input()\n",
        "    print_full_name(first_name, last_name)"
      ],
      "execution_count": null,
      "outputs": [
        {
          "output_type": "stream",
          "name": "stdout",
          "text": [
            "Ross\n",
            "Taylor\n",
            "Hello Ross Taylor! You just delved into python.\n"
          ]
        }
      ]
    },
    {
      "cell_type": "markdown",
      "metadata": {
        "id": "nlswaoftgHER"
      },
      "source": [
        "### **Mutations**"
      ]
    },
    {
      "cell_type": "markdown",
      "metadata": {
        "id": "dyXWxEkQkKw9"
      },
      "source": [
        "**TASK**\n",
        "\n",
        "Read a given string, change the character at a given index and then print the modified string.\n",
        "Function Description\n",
        "\n",
        "Complete the mutate_string function in the editor below.\n",
        "\n",
        "mutate_string has the following parameters:\n",
        "\n",
        "string string: the string to change\n",
        "int position: the index to insert the character at\n",
        "string character: the character to insert"
      ]
    },
    {
      "cell_type": "code",
      "metadata": {
        "colab": {
          "base_uri": "https://localhost:8080/"
        },
        "id": "7o6t8XbilcGs",
        "outputId": "3b62eaf1-499a-45f4-efd5-823f767e466d"
      },
      "source": [
        "def mutate_string(string, position, character):\n",
        "    return (\"{}{}{}\".format(string[:position], character, string[position+1:]))\n",
        "\n",
        "if __name__ == '__main__':\n",
        "    s = input()\n",
        "    i, c = input().split()\n",
        "    s_new = mutate_string(s, int(i), c)\n",
        "    print(s_new)"
      ],
      "execution_count": null,
      "outputs": [
        {
          "output_type": "stream",
          "name": "stdout",
          "text": [
            "abrackdabra\n",
            "5 k\n",
            "abrackdabra\n"
          ]
        }
      ]
    },
    {
      "cell_type": "markdown",
      "metadata": {
        "id": "Cku3Rmh0pRR_"
      },
      "source": [
        "### **Find a string**"
      ]
    },
    {
      "cell_type": "markdown",
      "metadata": {
        "id": "Kae6GZlol4CS"
      },
      "source": [
        "**TASK**\n",
        "\n",
        "In this challenge, the user enters a string and a substring. You have to print the number of times that the substring occurs in the given string. String traversal will take place from left to right, not from right to left.\n",
        "\n",
        "NOTE: String letters are case-sensitive.\n",
        "\n",
        "Input Format\n",
        "\n",
        "The first line of input contains the original string. The next line contains the substring"
      ]
    },
    {
      "cell_type": "code",
      "metadata": {
        "colab": {
          "base_uri": "https://localhost:8080/"
        },
        "id": "69-IX4aopngh",
        "outputId": "f4149d6f-01be-48a2-e4c4-2e1dbfd3b795"
      },
      "source": [
        "def count_substring(string, sub_string):\n",
        "    count=0\n",
        "    while sub_string in string:\n",
        "        i = string.find(sub_string)\n",
        "        string =  string[:i] + string[i + 1:]\n",
        "        count += 1\n",
        "    #print (count)\n",
        "    return(count)\n",
        "\n",
        "if __name__ == '__main__':\n",
        "    string = input().strip()\n",
        "    sub_string = input().strip()\n",
        "    count = count_substring(string, sub_string)\n",
        "    print(count)"
      ],
      "execution_count": null,
      "outputs": [
        {
          "output_type": "stream",
          "name": "stdout",
          "text": [
            "ABCDCDC\n",
            "CDC\n",
            "2\n"
          ]
        }
      ]
    },
    {
      "cell_type": "markdown",
      "metadata": {
        "id": "Yq9xLkGtthpi"
      },
      "source": [
        "### **String Validators**"
      ]
    },
    {
      "cell_type": "markdown",
      "metadata": {
        "id": "MBfEfRtEp841"
      },
      "source": [
        "**TASK**\n",
        "\n",
        "You are given a string S.\n",
        "Your task is to find out if the string S contains: alphanumeric characters, alphabetical characters, digits, lowercase and uppercase characters.\n",
        "\n",
        "Input Format\n",
        "\n",
        "A single line containing a string S."
      ]
    },
    {
      "cell_type": "code",
      "metadata": {
        "colab": {
          "base_uri": "https://localhost:8080/"
        },
        "id": "RKK7k6V6vVUt",
        "outputId": "e8d961c5-2276-460d-a07a-efc8b88f4dfc"
      },
      "source": [
        "if __name__ == '__main__':\n",
        "    s = input()\n",
        "    ty=type(s)\n",
        "    for i in [ty.isalnum, ty.isalpha, ty.isdigit, ty.islower, ty.isupper]:\n",
        "        print (any(i(c) for c in s))"
      ],
      "execution_count": null,
      "outputs": [
        {
          "output_type": "stream",
          "name": "stdout",
          "text": [
            "qA2\n",
            "True\n",
            "True\n",
            "True\n",
            "True\n",
            "True\n"
          ]
        }
      ]
    },
    {
      "cell_type": "markdown",
      "metadata": {
        "id": "z5Xxb_Emw0Zl"
      },
      "source": [
        "### **Text Alignment**"
      ]
    },
    {
      "cell_type": "markdown",
      "metadata": {
        "id": "LATKHLZUyWxK"
      },
      "source": [
        "**TASK**\n",
        "\n",
        "You are given a partial code that is used for generating the HackerRank Logo of variable thickness.\n",
        "Your task is to replace the blank (______) with rjust, ljust or center.\n",
        "\n",
        "Input Format\n",
        "\n",
        "A single line containing the thickness value for the logo."
      ]
    },
    {
      "cell_type": "code",
      "metadata": {
        "colab": {
          "base_uri": "https://localhost:8080/"
        },
        "id": "6Akr75ZxydbB",
        "outputId": "5e0f887c-8190-4f44-87c2-8f64c588b324"
      },
      "source": [
        "\n",
        "thickness = int(input()) #This must be an odd number\n",
        "c = 'H'\n",
        "\n",
        "#Top Cone\n",
        "for i in range(thickness):\n",
        "    print((c*i).rjust(thickness-1)+c+(c*i).ljust(thickness-1))\n",
        "\n",
        "#Top Pillars\n",
        "for i in range(thickness+1):\n",
        "    print((c*thickness).center(thickness*2)+(c*thickness).center(thickness*6))\n",
        "\n",
        "#Middle Belt\n",
        "for i in range((thickness+1)//2):\n",
        "    print((c*thickness*5).center(thickness*6))    \n",
        "\n",
        "#Bottom Pillars\n",
        "for i in range(thickness+1):\n",
        "    print((c*thickness).center(thickness*2)+(c*thickness).center(thickness*6))    \n",
        "\n",
        "#Bottom Cone\n",
        "for i in range(thickness):\n",
        "    print(((c*(thickness-i-1)).rjust(thickness)+c+(c*(thickness-i-1)).ljust(thickness)).rjust(thickness*6))\n",
        "    "
      ],
      "execution_count": null,
      "outputs": [
        {
          "output_type": "stream",
          "name": "stdout",
          "text": [
            "5\n",
            "    H    \n",
            "   HHH   \n",
            "  HHHHH  \n",
            " HHHHHHH \n",
            "HHHHHHHHH\n",
            "  HHHHH               HHHHH             \n",
            "  HHHHH               HHHHH             \n",
            "  HHHHH               HHHHH             \n",
            "  HHHHH               HHHHH             \n",
            "  HHHHH               HHHHH             \n",
            "  HHHHH               HHHHH             \n",
            "  HHHHHHHHHHHHHHHHHHHHHHHHH   \n",
            "  HHHHHHHHHHHHHHHHHHHHHHHHH   \n",
            "  HHHHHHHHHHHHHHHHHHHHHHHHH   \n",
            "  HHHHH               HHHHH             \n",
            "  HHHHH               HHHHH             \n",
            "  HHHHH               HHHHH             \n",
            "  HHHHH               HHHHH             \n",
            "  HHHHH               HHHHH             \n",
            "  HHHHH               HHHHH             \n",
            "                    HHHHHHHHH \n",
            "                     HHHHHHH  \n",
            "                      HHHHH   \n",
            "                       HHH    \n",
            "                        H     \n"
          ]
        }
      ]
    },
    {
      "cell_type": "markdown",
      "metadata": {
        "id": "CHCIdVe1zcia"
      },
      "source": [
        "### **Text Wrap**\n"
      ]
    },
    {
      "cell_type": "markdown",
      "metadata": {
        "id": "MCXmLZ_2zQU5"
      },
      "source": [
        "**TASK**\n",
        "\n",
        "You are given a string s and width w.\n",
        "Your task is to wrap the string into a paragraph of width w.\n",
        "\n",
        "Function Description\n",
        "\n",
        "Complete the wrap function in the editor below.\n",
        "\n",
        "wrap has the following parameters:\n",
        "\n",
        "string string: a long string\n",
        "int max_width: the width to wrap to"
      ]
    },
    {
      "cell_type": "code",
      "metadata": {
        "colab": {
          "base_uri": "https://localhost:8080/"
        },
        "id": "hbSFcMihzzlc",
        "outputId": "7ad467bd-542e-4b01-c3a0-6c9bebd74251"
      },
      "source": [
        "String=input()\n",
        "max_width=int(input())\n",
        "for i in range(0,len(String),max_width):\n",
        "  print(String[i:max_width+i])"
      ],
      "execution_count": null,
      "outputs": [
        {
          "output_type": "stream",
          "name": "stdout",
          "text": [
            "ABCDEFGHIJKLIMNOQRSTUVWXYZ\n",
            "4\n",
            "ABCD\n",
            "EFGH\n",
            "IJKL\n",
            "IMNO\n",
            "QRST\n",
            "UVWX\n",
            "YZ\n"
          ]
        }
      ]
    },
    {
      "cell_type": "markdown",
      "metadata": {
        "id": "ekObYfutLvxM"
      },
      "source": [
        "### **Designer Door Mat**"
      ]
    },
    {
      "cell_type": "markdown",
      "metadata": {
        "id": "2zsr10P25EZ5"
      },
      "source": [
        "**TASK**\n",
        "\n",
        "Mr. Vincent works in a door mat manufacturing company. One day, he designed a new door mat with the following specifications:\n",
        "\n",
        "Mat size must be N X M. (N is an odd natural number, M and 3 is  times N.)\n",
        "The design should have 'WELCOME' written in the center.\n",
        "The design pattern should only use |, . and - characters."
      ]
    },
    {
      "cell_type": "code",
      "metadata": {
        "colab": {
          "base_uri": "https://localhost:8080/"
        },
        "id": "jml_7tg5MJxs",
        "outputId": "302f725b-fdba-4f14-8b8c-86be41640bbf"
      },
      "source": [
        "if __name__ == '__main__':\n",
        "        A, B = map(int, input().split(\" \"))\n",
        "\n",
        "        for i in range(A):\n",
        "                design = \".|.\"\n",
        "                if i < (A-1)/2:\n",
        "                        print((design * (2*i+1)).center(B, \"-\"))\n",
        "                elif i == (A-1)/2:\n",
        "                        print(\"WELCOME\".center(B, \"-\"))\n",
        "                else:\n",
        "                        print((design * (2*(A-1-i)+1)).center(B, \"-\"))"
      ],
      "execution_count": null,
      "outputs": [
        {
          "output_type": "stream",
          "name": "stdout",
          "text": [
            "9 27\n",
            "------------.|.------------\n",
            "---------.|..|..|.---------\n",
            "------.|..|..|..|..|.------\n",
            "---.|..|..|..|..|..|..|.---\n",
            "----------WELCOME----------\n",
            "---.|..|..|..|..|..|..|.---\n",
            "------.|..|..|..|..|.------\n",
            "---------.|..|..|.---------\n",
            "------------.|.------------\n"
          ]
        }
      ]
    },
    {
      "cell_type": "markdown",
      "metadata": {
        "id": "4S-Rh0zxMnfM"
      },
      "source": [
        "### **String Formatting**"
      ]
    },
    {
      "cell_type": "markdown",
      "metadata": {
        "id": "9vwi5CE0N7OD"
      },
      "source": [
        "**TASK**\n",
        "\n",
        "Given an integer,n , print the following values for each integer i from 1 to n:\n",
        "\n",
        "1.Decimal\n",
        "\n",
        "2.Octal\n",
        "\n",
        "3.Hexadecimal (capitalized)\n",
        "\n",
        "4.Binary\n",
        "\n",
        "5.Function Description\n",
        "\n",
        "Complete the print_formatted function in the editor below.\n",
        "\n",
        "print_formatted has the following parameters:\n",
        "\n",
        "int number: the maximum value to print"
      ]
    },
    {
      "cell_type": "code",
      "metadata": {
        "colab": {
          "base_uri": "https://localhost:8080/"
        },
        "id": "YydVJQhNOMmP",
        "outputId": "f5a58642-74ca-41fe-fc76-1d6b51bcbb8b"
      },
      "source": [
        "\n",
        "n = int(input())\n",
        "space = len(\"{0:b}\".format(n))\n",
        "for i in range(1,n+1):\n",
        "  print (\"{0:{space}d} {0:{space}o} {0:{space}X} {0:{space}b}\".format(i, space=space))"
      ],
      "execution_count": null,
      "outputs": [
        {
          "output_type": "stream",
          "name": "stdout",
          "text": [
            "20\n",
            "    1     1     1     1\n",
            "    2     2     2    10\n",
            "    3     3     3    11\n",
            "    4     4     4   100\n",
            "    5     5     5   101\n",
            "    6     6     6   110\n",
            "    7     7     7   111\n",
            "    8    10     8  1000\n",
            "    9    11     9  1001\n",
            "   10    12     A  1010\n",
            "   11    13     B  1011\n",
            "   12    14     C  1100\n",
            "   13    15     D  1101\n",
            "   14    16     E  1110\n",
            "   15    17     F  1111\n",
            "   16    20    10 10000\n",
            "   17    21    11 10001\n",
            "   18    22    12 10010\n",
            "   19    23    13 10011\n",
            "   20    24    14 10100\n"
          ]
        }
      ]
    },
    {
      "cell_type": "markdown",
      "metadata": {
        "id": "OhadH7KxS5__"
      },
      "source": [
        "### **Alphabet Rangoli**"
      ]
    },
    {
      "cell_type": "markdown",
      "metadata": {
        "id": "qZk3D__0SUbO"
      },
      "source": [
        "**TASK**\n",
        "\n",
        "You are given an integer, N. Your task is to print an alphabet rangoli of size N. (Rangoli is a form of Indian folk art based on creation of patterns.)\n",
        "\n",
        "Different sizes of alphabet rangoli are shown below:\n",
        "\n",
        "#size 3\n",
        "\n",
        "----c----\n",
        "\n",
        "--c-b-c--\n",
        "\n",
        "c-b-a-b-c\n",
        "\n",
        "--c-b-c--\n",
        "\n",
        "----c----"
      ]
    },
    {
      "cell_type": "code",
      "metadata": {
        "colab": {
          "base_uri": "https://localhost:8080/"
        },
        "id": "-QwWpOh6TDF1",
        "outputId": "972ddcc9-4d5e-4bf1-a3ba-63f19e3a70d1"
      },
      "source": [
        "def print_rangoli(size):\n",
        "    import string\n",
        "    letters = string.ascii_lowercase\n",
        "\n",
        "    L = []\n",
        "    for i in range(n):\n",
        "        s = \"-\".join(letters[i:n])\n",
        "        L.append((s[::-1]+s[1:]).center(4*n-3, \"-\"))\n",
        "    print('\\n'.join(L[:0:-1]+L))\n",
        "\n",
        "if __name__ == '__main__':\n",
        "    n = int(input())\n",
        "    print_rangoli(n)"
      ],
      "execution_count": null,
      "outputs": [
        {
          "output_type": "stream",
          "name": "stdout",
          "text": [
            "5\n",
            "--------e--------\n",
            "------e-d-e------\n",
            "----e-d-c-d-e----\n",
            "--e-d-c-b-c-d-e--\n",
            "e-d-c-b-a-b-c-d-e\n",
            "--e-d-c-b-c-d-e--\n",
            "----e-d-c-d-e----\n",
            "------e-d-e------\n",
            "--------e--------\n"
          ]
        }
      ]
    },
    {
      "cell_type": "markdown",
      "metadata": {
        "id": "yA-2z3aSVqLy"
      },
      "source": [
        "### **Capitalize!**\n"
      ]
    },
    {
      "cell_type": "markdown",
      "metadata": {
        "id": "sppLDyrgLPmC"
      },
      "source": [
        "**TASK**\n",
        "\n",
        "You are asked to ensure that the first and last names of people begin with a capital letter in their passports. For example, alison heck should be capitalised correctly as Alison Heck.\n",
        "\n",
        "\n",
        "\n",
        "Given a full name, your task is to capitalize the name appropriately."
      ]
    },
    {
      "cell_type": "code",
      "metadata": {
        "colab": {
          "base_uri": "https://localhost:8080/"
        },
        "id": "2UzhzJP4LgZw",
        "outputId": "ad92157b-6a76-4696-f0ae-23f9a1ac5d14"
      },
      "source": [
        "s=input()\n",
        "print(' '.join(map(str.capitalize, s.split(' '))))"
      ],
      "execution_count": null,
      "outputs": [
        {
          "output_type": "stream",
          "name": "stdout",
          "text": [
            "raj kiran dvs\n",
            "Raj Kiran Dvs\n"
          ]
        }
      ]
    },
    {
      "cell_type": "markdown",
      "metadata": {
        "id": "-dIgZjHIRe-C"
      },
      "source": [
        "### **The Minion Game**"
      ]
    },
    {
      "cell_type": "markdown",
      "metadata": {
        "id": "Owwp-epXQ5-7"
      },
      "source": [
        "**TASK**\n",
        "\n",
        "Kevin and Stuart want to play the 'The Minion Game'.\n",
        "\n",
        "Game Rules\n",
        "\n",
        "Both players are given the same string, S.\n",
        "Both players have to make substrings using the letters of the string S.\n",
        "Stuart has to make words starting with consonants.\n",
        "Kevin has to make words starting with vowels.\n",
        "The game ends when both players have made all possible substrings.\n",
        "\n",
        "Scoring\n",
        "A player gets +1 point for each occurrence of the substring in the string S."
      ]
    },
    {
      "cell_type": "code",
      "metadata": {
        "colab": {
          "base_uri": "https://localhost:8080/"
        },
        "id": "6oyN9PW8g7xN",
        "outputId": "3cb66b5b-bd41-423e-8946-c08e58d8fe31"
      },
      "source": [
        "s =input().upper()\n",
        "vowels = 'AEIOU'\n",
        "kev_sc = 0\n",
        "stu_sc = 0\n",
        "for i in range(len(s)):\n",
        "    if s[i] in vowels:\n",
        "        kev_sc += (len(s)-i)\n",
        "    else:\n",
        "        stu_sc += (len(s)-i)\n",
        "\n",
        "if kev_sc > stu_sc:\n",
        "    print (\"Kevin\", kev_sc)\n",
        "elif kev_sc < stu_sc:\n",
        "    print( \"Stuart\", stu_sc)\n",
        "else:\n",
        "  print(\"Draw\")"
      ],
      "execution_count": 20,
      "outputs": [
        {
          "output_type": "stream",
          "name": "stdout",
          "text": [
            "Banana\n",
            "Stuart 12\n"
          ]
        }
      ]
    },
    {
      "cell_type": "markdown",
      "metadata": {
        "id": "9V7x5k3ejkLu"
      },
      "source": [
        "### **Merge the Tools!**"
      ]
    },
    {
      "cell_type": "markdown",
      "metadata": {
        "id": "hHmbMF0RtFKP"
      },
      "source": [
        "**TASK**\n",
        "\n",
        "Complete the merge_the_tools function in the editor below.\n",
        "\n",
        "merge_the_tools has the following parameters:\n",
        "\n",
        "string s: the string to analyze\n",
        "int k: the size of substrings to analyze\n",
        "Prints\n",
        "\n",
        "Print each subsequence on a new line. There will be n/k of them. No return value is expected.\n",
        "\n",
        "Input Format\n",
        "\n",
        "The first line contains a single string,s .\n",
        "The second line contains an integer, k, the length of each substring."
      ]
    },
    {
      "cell_type": "code",
      "metadata": {
        "colab": {
          "base_uri": "https://localhost:8080/"
        },
        "id": "d6l-Vqr-mcZJ",
        "outputId": "f92f9d7e-2f07-46d4-b690-9e78082bd9be"
      },
      "source": [
        "def merge_the_tools(string, k):\n",
        "    for i in range(0, len(string), k):\n",
        "        temp = ''\n",
        "        for j in string[i : i+k]:\n",
        "            if (j not in temp):\n",
        "                temp=temp+j\n",
        "        print(temp)\n",
        "\n",
        "if __name__ == '__main__':\n",
        "    string, k = input(), int(input())\n",
        "    merge_the_tools(string, k)\n",
        "  "
      ],
      "execution_count": 24,
      "outputs": [
        {
          "output_type": "stream",
          "name": "stdout",
          "text": [
            "AABCAAADA\n",
            "3\n",
            "AB\n",
            "CA\n",
            "AD\n"
          ]
        }
      ]
    }
  ]
}