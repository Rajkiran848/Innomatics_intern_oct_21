{
  "nbformat": 4,
  "nbformat_minor": 0,
  "metadata": {
    "colab": {
      "name": "Task2(data_types).ipynb",
      "provenance": [],
      "collapsed_sections": []
    },
    "kernelspec": {
      "name": "python3",
      "display_name": "Python 3"
    },
    "language_info": {
      "name": "python"
    }
  },
  "cells": [
    {
      "cell_type": "markdown",
      "metadata": {
        "id": "RTik5B9mIHUw"
      },
      "source": [
        "### ***List Comprehensions***\n",
        "\n"
      ]
    },
    {
      "cell_type": "markdown",
      "metadata": {
        "id": "d_KILsgxYP9i"
      },
      "source": [
        "***Task***\n",
        "\n",
        "Let's learn about list comprehensions! You are given three integers x,y  and z representing the dimensions of a cuboid along with an integer n . Print a list of all possible coordinates given by(i,j,k)  on a 3D grid where the sum of i+j+k  is not equal to n . Here, . Please use list comprehensions rather than multiple loops, as a learning exercise."
      ]
    },
    {
      "cell_type": "code",
      "metadata": {
        "id": "NvRZ9B-pUVV4"
      },
      "source": [
        "x,y,z,n= (int(input()) for i in range(4)) # iterating loops for four times to take the inputs\n",
        "print([[i,j,k] for i  in range(x+1) for j in range(y+1) for k in range(z+1) if sum([i,j,k])!=n]) ## list comprehensioning the given condition"
      ],
      "execution_count": null,
      "outputs": []
    },
    {
      "cell_type": "markdown",
      "metadata": {
        "id": "sw6qsCWEZC0i"
      },
      "source": [
        "### ***Find the Runner-Up Score!***\n",
        "\n"
      ]
    },
    {
      "cell_type": "markdown",
      "metadata": {
        "id": "_0Xx3B3yZH8E"
      },
      "source": [
        "***Task***\n",
        "\n",
        "Given the participants' score sheet for your University Sports Day, you are required to find the runner-up score. You are given n scores. Store them in a list and find the score of the runner-up."
      ]
    },
    {
      "cell_type": "code",
      "metadata": {
        "colab": {
          "base_uri": "https://localhost:8080/"
        },
        "id": "mQE9sg71cQ8S",
        "outputId": "cfcefc36-706d-4131-85ba-24605878eb2e"
      },
      "source": [
        "A=[]\n",
        "n= int(input())\n",
        "for i in range(n):\n",
        "  k=int(input())\n",
        "  A.append(k)\n",
        "print(A)\n",
        "print(sorted((set(A)))[-2])"
      ],
      "execution_count": null,
      "outputs": [
        {
          "output_type": "stream",
          "name": "stdout",
          "text": [
            "5\n",
            "5\n",
            "4\n",
            "2\n",
            "5\n",
            "4\n",
            "[5, 4, 2, 5, 4]\n",
            "4\n"
          ]
        }
      ]
    },
    {
      "cell_type": "markdown",
      "metadata": {
        "id": "sfGAD-hEtK_-"
      },
      "source": [
        "#### ***Nested Lists***"
      ]
    },
    {
      "cell_type": "markdown",
      "metadata": {
        "id": "8LJgkoJOMF0n"
      },
      "source": [
        "***TASK***\n",
        "\n",
        "Given the names and grades for each student in a class of N  students, store them in a nested list and print the name(s) of any student(s) having the second lowest grade."
      ]
    },
    {
      "cell_type": "code",
      "metadata": {
        "colab": {
          "base_uri": "https://localhost:8080/"
        },
        "id": "O_JfBjP_MToo",
        "outputId": "e00b3b06-8857-42c2-94a0-065587bba1d7"
      },
      "source": [
        "record = {}\n",
        "n = int(input())\n",
        "for x in range(n):\n",
        "    name = input()\n",
        "    score = float(input())\n",
        "    \n",
        "    if score in record:\n",
        "        record[score].append(name)\n",
        "    else:\n",
        "        record[score] = [name]\n",
        "        \n",
        "all_marks = sorted(list(set(record.keys())))\n",
        "names_ordered = record[all_marks[1]]\n",
        "names_ordered.sort()\n",
        "\n",
        "for name in names_ordered:\n",
        "    print (name)"
      ],
      "execution_count": null,
      "outputs": [
        {
          "output_type": "stream",
          "name": "stdout",
          "text": [
            "5\n",
            "a\n",
            "37.21\n",
            "b\n",
            "37.21\n",
            "c37.2\n",
            "37.2\n",
            "d\n",
            "41\n",
            "e\n",
            "39\n",
            "a\n",
            "b\n"
          ]
        }
      ]
    },
    {
      "cell_type": "markdown",
      "metadata": {
        "id": "JZe448nTQ99R"
      },
      "source": [
        "### ***Finding the percentage***"
      ]
    },
    {
      "cell_type": "markdown",
      "metadata": {
        "id": "EwQs_7ClXlrs"
      },
      "source": [
        "**Task**\n",
        "\n",
        "The provided code stub will read in a dictionary containing key/value pairs of name:[marks] for a list of students. Print the average of the marks array for the student name provided, showing 2 places after the decimal."
      ]
    },
    {
      "cell_type": "code",
      "metadata": {
        "colab": {
          "base_uri": "https://localhost:8080/"
        },
        "id": "dwBTFRqlXrt7",
        "outputId": "928aa942-5d2c-46f6-dc9a-513b96700030"
      },
      "source": [
        "  n = int(input())\n",
        "  student_marks = {}\n",
        "  for _ in range(n):\n",
        "    name, *line = input().split()\n",
        "    scores = list(map(float, line))\n",
        "    student_marks[name] = scores\n",
        "  query_name = input()\n",
        "    \n",
        "  for key, value in student_marks.items():\n",
        "    if query_name == key:\n",
        "      total = 0\n",
        "      c = 0\n",
        "      for i in value:\n",
        "        total += i\n",
        "        c += 1\n",
        "      average = total/c\n",
        "      print(\"{:.2f}\".format(average))\n",
        "    \n"
      ],
      "execution_count": null,
      "outputs": [
        {
          "output_type": "stream",
          "name": "stdout",
          "text": [
            "3\n",
            "Krishna 67 68 69\n",
            "Arjun 70 98 63\n",
            "Malika 52 56 60\n",
            "Malika\n",
            "56.00\n"
          ]
        }
      ]
    },
    {
      "cell_type": "markdown",
      "metadata": {
        "id": "KXG59yfoulOz"
      },
      "source": [
        "### **Array Mathematics**"
      ]
    },
    {
      "cell_type": "markdown",
      "metadata": {
        "id": "Tinejngzur_A"
      },
      "source": [
        "**TASK**\n",
        "\n",
        "Basic mathematical functions operate element-wise on arrays. They are available both as operator overloads and as functions in the NumPy module.\n",
        "Add ( + )\n",
        "Subtract ( - )\n",
        "Multiply ( * )\n",
        "Integer Division ( / )\n",
        "Mod ( % )\n",
        "Power ( ** )"
      ]
    },
    {
      "cell_type": "code",
      "metadata": {
        "colab": {
          "base_uri": "https://localhost:8080/"
        },
        "id": "tRSTddBvgQ-v",
        "outputId": "7e2088d5-8e2b-488d-b409-cf4337586baf"
      },
      "source": [
        "import numpy as np\n",
        "N,M= (int(input()) for i in range(2))\n",
        "A, B = (np.array([input().split() for _ in range(n)], dtype=int) for _ in range(2))\n",
        "print(np.add(A,B), np.subtract(A,B), np.multiply(A,B,), np.floor_divide(A,B), np.mod(A,B), np.power(A,B),sep='\\n')"
      ],
      "execution_count": null,
      "outputs": [
        {
          "output_type": "stream",
          "name": "stdout",
          "text": [
            "3\n",
            "3\n",
            "1\n",
            "2\n",
            "3\n",
            "4\n",
            "5\n",
            "6\n",
            "[[5]\n",
            " [7]\n",
            " [9]]\n",
            "[[-3]\n",
            " [-3]\n",
            " [-3]]\n",
            "[[ 4]\n",
            " [10]\n",
            " [18]]\n",
            "[[0]\n",
            " [0]\n",
            " [0]]\n",
            "[[1]\n",
            " [2]\n",
            " [3]]\n",
            "[[  1]\n",
            " [ 32]\n",
            " [729]]\n"
          ]
        }
      ]
    },
    {
      "cell_type": "markdown",
      "metadata": {
        "id": "8mqC0wt4jwdz"
      },
      "source": [
        "  ### ***LIST***"
      ]
    },
    {
      "cell_type": "markdown",
      "metadata": {
        "id": "EI7hbFaOmbdm"
      },
      "source": [
        "**TASK**\n",
        "\n",
        "Consider a list (list = []). You can perform the following commands:\n",
        "\n",
        "insert i e: Insert integer e at position i .\n",
        "print: Print the list.\n",
        "remove e: Delete the first occurrence of integer e .\n",
        "append e: Insert integer e at the end of the list.\n",
        "sort: Sort the list.\n",
        "pop: Pop the last element from the list.\n",
        "reverse: Reverse the list."
      ]
    },
    {
      "cell_type": "code",
      "metadata": {
        "colab": {
          "base_uri": "https://localhost:8080/"
        },
        "id": "UTp_Nt9Amlhr",
        "outputId": "7e168783-dc80-47a5-d0c9-0743e6a26139"
      },
      "source": [
        "n = int(input())\n",
        "L = []\n",
        "for t in range(n):\n",
        "  arr = input().split(\" \")\n",
        "  if arr[0] == \"append\":\n",
        "    L.append(int(arr[1]))\n",
        "  elif arr[0] == \"remove\":\n",
        "    L.remove(int(arr[1]))\n",
        "  elif arr[0] == \"reverse\":\n",
        "    L.reverse()\n",
        "  elif arr[0] == \"pop\":\n",
        "    L.pop()\n",
        "  elif arr[0] == \"insert\":\n",
        "     L.insert(int(arr[1]), int(arr[2]))\n",
        "  elif arr[0] == \"sort\":\n",
        "    L.sort()\n",
        "  elif arr[0] == \"print\":\n",
        "    print (L) "
      ],
      "execution_count": 9,
      "outputs": [
        {
          "output_type": "stream",
          "name": "stdout",
          "text": [
            "12\n",
            "insert 0 5\n",
            "insert 1 10\n",
            "insert 0 6\n",
            "print\n",
            "[6, 5, 10]\n",
            "remove 6\n",
            "append 9\n",
            "append 1\n",
            "sort\n",
            "print\n",
            "[1, 5, 9, 10]\n",
            "pop\n",
            "reverse\n",
            "print\n",
            "[9, 5, 1]\n"
          ]
        }
      ]
    },
    {
      "cell_type": "markdown",
      "metadata": {
        "id": "BZkL4zKnuJw3"
      },
      "source": [
        "### **Tuples**"
      ]
    },
    {
      "cell_type": "markdown",
      "metadata": {
        "id": "ZhrXUCD5uWYX"
      },
      "source": [
        "**TASK**\n",
        "\n",
        "Given an integer, n, and n space-separated integers as input, create a tuple, t, of those n integers. Then compute and print the result of hash(t) ."
      ]
    },
    {
      "cell_type": "code",
      "metadata": {
        "colab": {
          "base_uri": "https://localhost:8080/"
        },
        "id": "GC-N5Sp-ukNZ",
        "outputId": "ae0abbef-df44-4668-a7a6-00f9e76b73e3"
      },
      "source": [
        " n = int(input())\n",
        "integer_list = map(int, input().split())\n",
        "print(hash(tuple(integer_list)))"
      ],
      "execution_count": 12,
      "outputs": [
        {
          "output_type": "stream",
          "name": "stdout",
          "text": [
            "2\n",
            "1 2\n",
            "3713081631934410656\n"
          ]
        }
      ]
    },
    {
      "cell_type": "markdown",
      "metadata": {
        "id": "OVl9t-Xu0-uE"
      },
      "source": [
        "### **Introduction to Sets**"
      ]
    },
    {
      "cell_type": "markdown",
      "metadata": {
        "id": "BsKx6eV-vBNe"
      },
      "source": [
        "**TASK**\n",
        "\n",
        "Ms. Gabriel Williams is a botany professor at District College. One day, she asked her student Mickey to compute the average of all the plants with distinct heights in her greenhouse."
      ]
    },
    {
      "cell_type": "code",
      "metadata": {
        "colab": {
          "base_uri": "https://localhost:8080/"
        },
        "id": "q_pCAGUM1MpM",
        "outputId": "b173c7ab-aacb-43f4-f524-efc035b58f3e"
      },
      "source": [
        "n=int(input()) # no.of elements in  the list\n",
        "arr = [int(i) for i in input().split()] # entering the elements in the list at a once \n",
        "total=sum(set(arr))\n",
        "c=len(set(arr))\n",
        "aver=total/c\n",
        "print(aver)"
      ],
      "execution_count": 42,
      "outputs": [
        {
          "output_type": "stream",
          "name": "stdout",
          "text": [
            "5\n",
            "1 2 3 4 5 6\n",
            "3.5\n"
          ]
        }
      ]
    },
    {
      "cell_type": "markdown",
      "metadata": {
        "id": "EQcqwE2d9qva"
      },
      "source": [
        "### **Symmetric Difference**"
      ]
    },
    {
      "cell_type": "markdown",
      "metadata": {
        "id": "Xzp8wQywRxzV"
      },
      "source": [
        "**TASK**\n",
        "\n",
        "Given 2 sets of integers, M and N, print their symmetric difference in ascending order. The term symmetric difference indicates those values that exist in either M or N but do not exist in both.\n",
        "\n"
      ]
    },
    {
      "cell_type": "code",
      "metadata": {
        "colab": {
          "base_uri": "https://localhost:8080/"
        },
        "id": "ZB3mfIaEYgLg",
        "outputId": "1e86e28e-4910-4fdb-88fb-0d08e4e97df7"
      },
      "source": [
        "M,m=(int(input()),input().split())\n",
        "N,n=(int(input()),input().split())\n",
        "x=set(m)\n",
        "y=set(n)\n",
        "i=y.difference(x)\n",
        "j=x.difference(y)\n",
        "k=i.union(j)\n",
        "print ('\\n'.join(sorted(k, key=int)))"
      ],
      "execution_count": 3,
      "outputs": [
        {
          "output_type": "stream",
          "name": "stdout",
          "text": [
            "4\n",
            "2 4 5 9\n",
            "4\n",
            "2 4 11 12\n",
            "5\n",
            "9\n",
            "11\n",
            "12\n"
          ]
        }
      ]
    },
    {
      "cell_type": "markdown",
      "metadata": {
        "id": "wkNXqycZbBqP"
      },
      "source": [
        "### **No Idea!**"
      ]
    },
    {
      "cell_type": "markdown",
      "metadata": {
        "id": "7ejJl3g0bJCU"
      },
      "source": [
        "**TASK**\n",
        "\n",
        "There is an array of n integers. There are also 2 disjoint sets,A  and B, each containing m integers. You like all the integers in set A and dislike all the integers in set B . Your initial happiness is 0. For each i integer in the array, if , you add  to your happiness. If , you add  to your happiness. Otherwise, your happiness does not change. Output your final happiness at the end."
      ]
    },
    {
      "cell_type": "code",
      "metadata": {
        "colab": {
          "base_uri": "https://localhost:8080/"
        },
        "id": "3l1mE9kSYhuA",
        "outputId": "1fc1661a-f613-4ec9-eae2-a8fbd04ee50e"
      },
      "source": [
        "a=input().split(' ')\n",
        "l=([int(i) for i in input().split(' ')])\n",
        "set1=set([int(i) for i in input().split(' ')])\n",
        "set2=set([int(i) for i in input().split(' ')])\n",
        "happiness=0\n",
        "for i in l:\n",
        "    if i in set1:\n",
        "        happiness+=1\n",
        "    if i in set2:\n",
        "        happiness-=1\n",
        "print(happiness)\n"
      ],
      "execution_count": 4,
      "outputs": [
        {
          "output_type": "stream",
          "name": "stdout",
          "text": [
            "3 2\n",
            "1 5 3\n",
            "3 1\n",
            "5 7\n",
            "1\n"
          ]
        }
      ]
    },
    {
      "cell_type": "markdown",
      "metadata": {
        "id": "6e5tK1-Ie_4k"
      },
      "source": [
        "### **Set .add()**"
      ]
    },
    {
      "cell_type": "markdown",
      "metadata": {
        "id": "Pv8tF8ssfw6Q"
      },
      "source": [
        "**TASK**\n",
        "\n",
        "Rupal has a huge collection of country stamps. She decided to count the total number of distinct country stamps in her collection. She asked for your help. You pick the stamps one by one from a stack of N country stamps.\n",
        "\n",
        "Find the total number of distinct country stamps."
      ]
    },
    {
      "cell_type": "code",
      "metadata": {
        "colab": {
          "base_uri": "https://localhost:8080/"
        },
        "id": "K2Izc7fLeuCw",
        "outputId": "9abd24d3-b4d6-471b-b406-76d0f0dbde47"
      },
      "source": [
        "n=int(input())\n",
        "m=[]\n",
        "for i in range(n):\n",
        "  j=input()\n",
        "  m.append(j)\n",
        "print(len(set(m)))\n"
      ],
      "execution_count": 10,
      "outputs": [
        {
          "output_type": "stream",
          "name": "stdout",
          "text": [
            "5\n",
            "raj\n",
            "kiran\n",
            "dvs\n",
            "raj\n",
            "kiran\n",
            "3\n"
          ]
        }
      ]
    },
    {
      "cell_type": "markdown",
      "metadata": {
        "id": "nloeBwj7hTY5"
      },
      "source": [
        "### **Set .discard(), .remove() & .pop()**\n",
        "\n"
      ]
    },
    {
      "cell_type": "markdown",
      "metadata": {
        "id": "wYa1LutWisKA"
      },
      "source": [
        "**TASK**\n",
        "\n",
        "The first line contains integer n, the number of elements in the set 8.\n",
        "The second line contains n space separated elements of set 8. All of the elements are non-negative integers, less than or equal to 9.\n",
        "The third line contains integer N, the number of commands.\n",
        "The next N lines contains either pop, remove and/or discard commands followed by their associated value."
      ]
    },
    {
      "cell_type": "code",
      "metadata": {
        "colab": {
          "base_uri": "https://localhost:8080/"
        },
        "id": "Lsovx8mvjktJ",
        "outputId": "932087eb-5760-4746-c242-61ec9382cb76"
      },
      "source": [
        "n = int(input())\n",
        "r = set(map(int, input().split())) \n",
        "commands = int(input())\n",
        "\n",
        "for i in range(commands):\n",
        "\n",
        "    c, *args = map(str,input().split())\n",
        "\n",
        "    getattr(r,c) (*(int(x) for x in args))\n",
        "\n",
        "print (sum(r))\n"
      ],
      "execution_count": 21,
      "outputs": [
        {
          "output_type": "stream",
          "name": "stdout",
          "text": [
            "2\n",
            "1 2\n",
            "1\n",
            "remove 1\n",
            "2\n"
          ]
        }
      ]
    },
    {
      "cell_type": "markdown",
      "metadata": {
        "id": "v3MvUyFapcIt"
      },
      "source": [
        "### **Set .union() Operation**"
      ]
    },
    {
      "cell_type": "markdown",
      "metadata": {
        "id": "WLqXb0Bxpxu2"
      },
      "source": [
        "  ##### **TASK**\n",
        "\n",
        "  The students of District College have subscriptions to English and French newspapers. Some students have subscribed only to English, some have subscribed to only French and some have subscribed to both newspapers.\n",
        "\n",
        "You are given two sets of student roll numbers. One set has subscribed to the English newspaper, and the other set is subscribed to the French newspaper. The same student could be in both sets. Your task is to find the total number of students who have subscribed to at least one newspaper.\n",
        "\n"
      ]
    },
    {
      "cell_type": "code",
      "metadata": {
        "colab": {
          "base_uri": "https://localhost:8080/"
        },
        "id": "96R8COU7p2Uc",
        "outputId": "325c4a0e-8382-47c7-fe1c-112ae0d4526f"
      },
      "source": [
        "a= int(input())\n",
        "s1= set([ x for x in input().split()])\n",
        "b= int(input())\n",
        "s2= set([ x for x in input().split()])\n",
        "print(len(s1.union(s2)))"
      ],
      "execution_count": 27,
      "outputs": [
        {
          "output_type": "stream",
          "name": "stdout",
          "text": [
            "9\n",
            "9\n",
            "1 2 3 4 5 6 7 8 9\n",
            "10 1 2 3 11 21 55 6 8\n",
            "13\n"
          ]
        }
      ]
    },
    {
      "cell_type": "markdown",
      "metadata": {
        "id": "UARnuQbHzD6p"
      },
      "source": [
        "### **Set .intersection() Operation**"
      ]
    },
    {
      "cell_type": "markdown",
      "metadata": {
        "id": "nLYCZOxRzLOi"
      },
      "source": [
        "**TASK**\n",
        "\n",
        "The students of District College have subscriptions to English and French newspapers. Some students have subscribed only to English, some have subscribed only to French, and some have subscribed to both newspapers.\n",
        "\n",
        "You are given two sets of student roll numbers. One set has subscribed to the English newspaper, one set has subscribed to the French newspaper. Your task is to find the total number of students who have subscribed to both newspapers."
      ]
    },
    {
      "cell_type": "code",
      "metadata": {
        "colab": {
          "base_uri": "https://localhost:8080/"
        },
        "id": "VnmWwk-0wn6C",
        "outputId": "af90e90c-2d8a-444b-f437-ac29b63be068"
      },
      "source": [
        "a= int(input())\n",
        "s1= set([ x for x in input().split()])\n",
        "b= int(input())\n",
        "s2= set([ x for x in input().split()])\n",
        "print(len(s1.intersection(s2)))"
      ],
      "execution_count": 28,
      "outputs": [
        {
          "output_type": "stream",
          "name": "stdout",
          "text": [
            "9\n",
            "1 2 3 4 5 6 7 8 9\n",
            "9\n",
            "10 1 2 3 11 21 55 6 8\n",
            "5\n"
          ]
        }
      ]
    },
    {
      "cell_type": "markdown",
      "metadata": {
        "id": "XKcO7UDdz9Rx"
      },
      "source": [
        "### **Set .difference() Operation**"
      ]
    },
    {
      "cell_type": "markdown",
      "metadata": {
        "id": "lP0AeLPVz_8U"
      },
      "source": [
        "**TASK**\n",
        "\n",
        "Students of District College have a subscription to English and French newspapers. Some students have subscribed to only the English newspaper, some have subscribed to only the French newspaper, and some have subscribed to both newspapers.\n",
        "\n",
        "You are given two sets of student roll numbers. One set has subscribed to the English newspaper, and one set has subscribed to the French newspaper. Your task is to find the total number of students who have subscribed to only English newspapers."
      ]
    },
    {
      "cell_type": "code",
      "metadata": {
        "colab": {
          "base_uri": "https://localhost:8080/"
        },
        "id": "0oUH26ffzeZT",
        "outputId": "208fba36-93bb-4ce7-ffc0-7c6ba25b0362"
      },
      "source": [
        "a= int(input())\n",
        "s1= set([ x for x in input().split()])\n",
        "b= int(input())\n",
        "s2= set([ x for x in input().split()])\n",
        "print(len(s1.difference(s2)))"
      ],
      "execution_count": 29,
      "outputs": [
        {
          "output_type": "stream",
          "name": "stdout",
          "text": [
            "9\n",
            "1 2 3 4 5 6 7 8 9\n",
            "9\n",
            "10 1 2 3 11 21 55 6 8\n",
            "4\n"
          ]
        }
      ]
    },
    {
      "cell_type": "markdown",
      "metadata": {
        "id": "gsrQ9S8Y0oah"
      },
      "source": [
        "### **Set .symmetric_difference() Operation**"
      ]
    },
    {
      "cell_type": "markdown",
      "metadata": {
        "id": "P_sBK5hS0q9r"
      },
      "source": [
        "**TASK**\n",
        "\n",
        "Students of District College have subscriptions to English and French newspapers. Some students have subscribed to English only, some have subscribed to French only, and some have subscribed to both newspapers.\n",
        "\n",
        "You are given two sets of student roll numbers. One set has subscribed to the English newspaper, and one set has subscribed to the French newspaper. Your task is to find the total number of students who have subscribed to either the English or the French newspaper but not both"
      ]
    },
    {
      "cell_type": "code",
      "metadata": {
        "colab": {
          "base_uri": "https://localhost:8080/"
        },
        "id": "GWO6wtcg0UEa",
        "outputId": "a6544e69-644c-44a5-b9d5-eb0c3d7723d8"
      },
      "source": [
        "a= int(input())\n",
        "s1= set([ x for x in input().split()])\n",
        "b= int(input())\n",
        "s2= set([ x for x in input().split()])\n",
        "print(len(s1.symmetric_difference(s2)))"
      ],
      "execution_count": 30,
      "outputs": [
        {
          "output_type": "stream",
          "name": "stdout",
          "text": [
            "9\n",
            "1 2 3 4 5 6 7 8 9\n",
            "9\n",
            "10 1 2 3 11 21 55 6 8\n",
            "8\n"
          ]
        }
      ]
    },
    {
      "cell_type": "markdown",
      "metadata": {
        "id": "jckrPdyf1H8h"
      },
      "source": [
        "### **Set Mutations**"
      ]
    },
    {
      "cell_type": "markdown",
      "metadata": {
        "id": "ozFaIa590399"
      },
      "source": [
        "**TASK**\n",
        "You are given a set A and N number of other sets. These  N number of sets have to perform some specific mutation operations on set A .\n",
        "Your task is to execute those operations and print the sum of elements from set A.\n",
        "\n"
      ]
    },
    {
      "cell_type": "code",
      "metadata": {
        "colab": {
          "base_uri": "https://localhost:8080/"
        },
        "id": "jQsnhj_D3Hdn",
        "outputId": "fd090a8d-6fb3-4d00-9519-e38ce707f3fc"
      },
      "source": [
        "k=input()\n",
        "s1=set(map(int,input().split()))\n",
        "n=int(input())\n",
        "for i in range(0,n):\n",
        "   \n",
        "    oper=input().split()[0]\n",
        "    s2=set(map(int,input().split()))\n",
        "    if oper==\"intersection_update\":\n",
        "        s1.intersection_update(s2)\n",
        "    if oper==\"update\":\n",
        "        s1.update(s2)\n",
        "    if oper==\"difference_update\":\n",
        "        s1.difference_update(s2)\n",
        "    if oper==\"symmetric_difference_update\":\n",
        "        s1.symmetric_difference_update(s2)\n",
        "print (sum(s1) )"
      ],
      "execution_count": 43,
      "outputs": [
        {
          "output_type": "stream",
          "name": "stdout",
          "text": [
            "16\n",
            "1 2 3 4 5 6 7 8 9 10 11 12 13 14 24 52\n",
            "4\n",
            "intersection_update 10\n",
            "2 3 5 6 8 9 1 4 7 11\n",
            "update 2\n",
            "55 66\n",
            "symmetric_difference_update 5\n",
            "22 7 35 62 58\n",
            "difference_update 7\n",
            "11 22 35 55 58 62 66\n",
            "38\n"
          ]
        }
      ]
    },
    {
      "cell_type": "markdown",
      "metadata": {
        "id": "viruxM4Z6tnT"
      },
      "source": [
        "### **The Captain's Room**"
      ]
    },
    {
      "cell_type": "markdown",
      "metadata": {
        "id": "XVOuYdAC4bAe"
      },
      "source": [
        "**TASK**\n",
        "\n",
        "Mr. Anant Asankhya is the manager at the INFINITE hotel. The hotel has an infinite amount of rooms.\n",
        "\n",
        "One fine day, a finite number of tourists come to stay at the hotel.\n",
        "The tourists consist of:\n",
        "→ A Captain.\n",
        "→ An unknown group of families consisting of K members per group where K ≠1 .\n",
        "\n",
        "The Captain was given a separate room, and the rest were given one room per group.\n",
        "\n",
        "Mr. Anant has an unordered list of randomly arranged room entries. The list consists of the room numbers for all of the tourists. The room numbers will appear K times per group except for the Captain's room.\n",
        "\n",
        "Mr. Anant needs you to help him find the Captain's room number.\n",
        "The total number of tourists or the total number of groups of families is not known to you.\n",
        "You only know the value of K and the room number list."
      ]
    },
    {
      "cell_type": "code",
      "metadata": {
        "colab": {
          "base_uri": "https://localhost:8080/"
        },
        "id": "POe3lmqp7Lwh",
        "outputId": "d81b9622-c97a-47a7-dba9-2b9ddcc708fd"
      },
      "source": [
        "K = int(input())\n",
        "num = map(int,input().split())\n",
        "\n",
        "c = {}\n",
        "for n in num:\n",
        "    if n in c:\n",
        "        c[n] += 1\n",
        "    else:\n",
        "        c[n] = 1\n",
        "for n in c:\n",
        "    if c[n] == 1:\n",
        "        print (n)\n",
        "        break"
      ],
      "execution_count": 45,
      "outputs": [
        {
          "output_type": "stream",
          "name": "stdout",
          "text": [
            "5\n",
            "1 2 3 6 5 4 4 2 5 3 6 1 6 5 3 2 4 1 2 5 1 4 3 6 8 4 3 1 5 6 2\n",
            "8\n"
          ]
        }
      ]
    },
    {
      "cell_type": "markdown",
      "metadata": {
        "id": "NjMZSbN8-NCn"
      },
      "source": [
        "### **Check Subset**"
      ]
    },
    {
      "cell_type": "markdown",
      "metadata": {
        "id": "h-Q6jbl991Mh"
      },
      "source": [
        "**TASK**\n",
        "\n",
        "You are given two sets, A and B .\n",
        "Your job is to find whether set A is a subset of set B.\n",
        "\n",
        "If set A is subset of set B , print True.\n",
        "If set A is not a subset of set B, print False."
      ]
    },
    {
      "cell_type": "code",
      "metadata": {
        "colab": {
          "base_uri": "https://localhost:8080/"
        },
        "id": "oNbsbNEn-nfO",
        "outputId": "8ee49e1b-0fe6-48da-d553-2fba1c4355bf"
      },
      "source": [
        "for i in range (int(input())):\n",
        "   _, p = input(), set(input().split())\n",
        "   _, q = input(), set(input().split())\n",
        "    print(q.intersection(p) == p)"
      ],
      "execution_count": 46,
      "outputs": [
        {
          "output_type": "stream",
          "name": "stdout",
          "text": [
            "3\n",
            "5\n",
            "1 2 3 5 6\n",
            "9\n",
            "9 8 5 6 3 2 1 4 7\n",
            "True\n",
            "1\n",
            "2\n",
            "5\n",
            "3 6 5 4 1\n",
            "False\n",
            "7\n",
            "1 2 3 5 6 8 9\n",
            "3\n",
            "9 8 2\n",
            "False\n"
          ]
        }
      ]
    },
    {
      "cell_type": "markdown",
      "metadata": {
        "id": "jANZ38UUAkkt"
      },
      "source": [
        "### **Check Strict Superset**"
      ]
    },
    {
      "cell_type": "markdown",
      "metadata": {
        "id": "wc_1tT9N_58D"
      },
      "source": [
        "**TASK**\n",
        "\n",
        "You are given a set A and n other sets.\n",
        "Your job is to find whether set A is a strict superset of each of the N sets.\n",
        "\n",
        "Print True, if A is a strict superset of each of the N sets. Otherwise, print False.\n",
        "\n",
        "A strict superset has at least one element that does not exist in its subset."
      ]
    },
    {
      "cell_type": "code",
      "metadata": {
        "colab": {
          "base_uri": "https://localhost:8080/"
        },
        "id": "sQR_anPiA2In",
        "outputId": "f7da7ff3-c27e-4cbc-d9c3-baefc76ca4f3"
      },
      "source": [
        "a = set(input().split())\n",
        "c , n = 0, int(input())\n",
        "for i in range (n):\n",
        "        b = set(input().split())\n",
        "        if a.issuperset(b) :\n",
        "                c=c+ 1\n",
        "print(c== n)"
      ],
      "execution_count": 47,
      "outputs": [
        {
          "output_type": "stream",
          "name": "stdout",
          "text": [
            "1 2 3 4 5 6 7 8 9 10 11 12 23 45 84 78\n",
            "2\n",
            "1 2 3 4 5\n",
            "100 11 12\n",
            "False\n"
          ]
        }
      ]
    },
    {
      "cell_type": "code",
      "metadata": {
        "id": "PXpMbK1qDYeX"
      },
      "source": [
        ""
      ],
      "execution_count": null,
      "outputs": []
    }
  ]
}