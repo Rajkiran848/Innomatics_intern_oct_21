{
  "nbformat": 4,
  "nbformat_minor": 0,
  "metadata": {
    "colab": {
      "name": "Task_2(Cifar-10).ipynb",
      "provenance": [],
      "collapsed_sections": []
    },
    "kernelspec": {
      "name": "python3",
      "display_name": "Python 3"
    },
    "language_info": {
      "name": "python"
    }
  },
  "cells": [
    {
      "cell_type": "code",
      "metadata": {
        "id": "LhXUmVYCfaOC"
      },
      "source": [
        "# Run some setup code for this notebook.\n",
        "\n",
        "import random\n",
        "import numpy as np\n",
        "import matplotlib.pyplot as plt\n",
        "import os\n",
        "from sklearn.metrics import classification_report\n",
        "\n",
        "from __future__ import print_function\n",
        "\n",
        "from builtins import range\n",
        "from six.moves import cPickle as pickle\n",
        "from imageio import imread\n",
        "import platform\n",
        "from tensorflow.keras.layers import Input, Conv2D, Dense, Flatten, Dropout\n",
        "from sklearn.model_selection import GridSearchCV\n",
        "\n",
        "\n",
        "# This is a bit of magic to make matplotlib figures appear inline in the notebook\n",
        "# rather than in a new window.\n",
        "%matplotlib inline\n",
        "plt.rcParams['figure.figsize'] = (10.0, 8.0) # set default size of plots\n",
        "plt.rcParams['image.interpolation'] = 'nearest'\n",
        "plt.rcParams['image.cmap'] = 'gray'\n",
        "\n",
        "# Some more magic so that the notebook will reload external python modules;\n",
        "# see http://stackoverflow.com/questions/1907993/autoreload-of-modules-in-ipython\n",
        "%load_ext autoreload\n",
        "%autoreload 2"
      ],
      "execution_count": 1,
      "outputs": []
    },
    {
      "cell_type": "markdown",
      "metadata": {
        "id": "8oT7TbUgfv__"
      },
      "source": [
        "### Step - 2 (Download the dataset)"
      ]
    },
    {
      "cell_type": "code",
      "metadata": {
        "id": "h0yZYSnhfd6s"
      },
      "source": [
        "import tensorflow as tf \n",
        "cifar10 = tf.keras.datasets.cifar10"
      ],
      "execution_count": 2,
      "outputs": []
    },
    {
      "cell_type": "markdown",
      "metadata": {
        "id": "vc9O3rowgBRm"
      },
      "source": [
        "### Step - 3 (Load the Dataset)"
      ]
    },
    {
      "cell_type": "code",
      "metadata": {
        "colab": {
          "base_uri": "https://localhost:8080/"
        },
        "id": "_FOQLpjgfjTC",
        "outputId": "f8cdb315-c14a-4360-e5a1-5ba17f38086a"
      },
      "source": [
        "# This cell loads the training and testing dataset. Please note the variables at\n",
        "# the end of the cell as you would require them to access the train/test data \n",
        "# and labels throughout the assignment\n",
        "def load_pickle(f):\n",
        "    version = platform.python_version_tuple()\n",
        "    if version[0] == '2':\n",
        "        return  pickle.load(f)\n",
        "    elif version[0] == '3':\n",
        "        return  pickle.load(f, encoding='latin1')\n",
        "    raise ValueError(\"invalid python version: {}\".format(version))\n",
        "\n",
        "\n",
        "def load_CIFAR_batch(filename):\n",
        "    \"\"\" load single batch of cifar \"\"\"\n",
        "    with open(filename, 'rb') as f:\n",
        "        datadict = load_pickle(f)\n",
        "        X = datadict['data']\n",
        "        Y = datadict['labels']\n",
        "        X = X.reshape(10000, 3, 32, 32).transpose(0,2,3,1).astype(\"float\")\n",
        "        Y = np.array(Y)\n",
        "        return X, Y\n",
        "\n",
        "\n",
        "def load_CIFAR10(ROOT):\n",
        "    \"\"\" load all of cifar \"\"\"\n",
        "    xs = []\n",
        "    ys = []\n",
        "    for b in range(1,6):\n",
        "        f = os.path.join(ROOT, 'data_batch_%d' % (b, ))\n",
        "        X, Y = load_CIFAR_batch(f)\n",
        "        xs.append(X)\n",
        "        ys.append(Y)\n",
        "    Xtr = np.concatenate(xs)\n",
        "    Ytr = np.concatenate(ys)\n",
        "    del X, Y\n",
        "    Xte, Yte = load_CIFAR_batch(os.path.join(ROOT, 'test_batch'))\n",
        "    return Xtr, Ytr, Xte, Yte\n",
        "\n",
        "\n",
        "cifar10_dir = 'cifar-10-batches-py'\n",
        "\n",
        "# Cleaning up variables to prevent loading data multiple times\n",
        "try:\n",
        "    del X_train, y_train\n",
        "    del X_test, y_test\n",
        "    print('Clear previously loaded data.')\n",
        "except:\n",
        "    pass\n",
        "\n",
        "(X_train, y_train), (X_test, y_test) = cifar10.load_data()\n",
        "\n",
        "# As a sanity check, we print out the size of the training and test data.\n",
        "print('Training data shape: ', X_train.shape)\n",
        "print('Training labels shape: ', y_train.shape)\n",
        "print('Test data shape: ', X_test.shape)\n",
        "print('Test labels shape: ', y_test.shape)\n"
      ],
      "execution_count": 3,
      "outputs": [
        {
          "output_type": "stream",
          "name": "stdout",
          "text": [
            "Downloading data from https://www.cs.toronto.edu/~kriz/cifar-10-python.tar.gz\n",
            "170500096/170498071 [==============================] - 3s 0us/step\n",
            "170508288/170498071 [==============================] - 3s 0us/step\n",
            "Training data shape:  (50000, 32, 32, 3)\n",
            "Training labels shape:  (50000, 1)\n",
            "Test data shape:  (10000, 32, 32, 3)\n",
            "Test labels shape:  (10000, 1)\n"
          ]
        }
      ]
    },
    {
      "cell_type": "markdown",
      "metadata": {
        "id": "SimfyCclgHAd"
      },
      "source": [
        "#### Step - 4 (Visualization)"
      ]
    },
    {
      "cell_type": "markdown",
      "metadata": {
        "id": "M4wV6v1ggKma"
      },
      "source": [
        "\n",
        "Next we visualize the CIFAR-10 dataset. Although these functions are being written for you, we highly recommend you go through the code and make yourself familiar as these are things you will be required to do very often when working on AI/ML projects"
      ]
    },
    {
      "cell_type": "code",
      "metadata": {
        "colab": {
          "base_uri": "https://localhost:8080/",
          "height": 264
        },
        "id": "Ap0G1gwefmaV",
        "outputId": "75d83015-e0ae-4297-8b1e-7133689ff331"
      },
      "source": [
        "# Visualize some examples from the dataset.\n",
        "# We show a few examples of training images from each class.\n",
        "classes = ['plane', 'car', 'bird', 'cat', 'deer', 'dog', 'frog', 'horse', 'ship', 'truck']\n",
        "num_classes = len(classes)\n",
        "samples_per_class = 7\n",
        "for y, cls in enumerate(classes):\n",
        "    idxs = np.flatnonzero(y_train == y)\n",
        "    idxs = np.random.choice(idxs, samples_per_class, replace=False)\n",
        "    for i, idx in enumerate(idxs):\n",
        "        plt_idx = i * num_classes + y + 1\n",
        "        plt.subplot(samples_per_class, num_classes, plt_idx)\n",
        "        plt.imshow(X_train[idx].astype('uint8'))\n",
        "        plt.axis('off')\n",
        "        if i == 0:\n",
        "            plt.title(cls)\n",
        "plt.show()"
      ],
      "execution_count": 4,
      "outputs": [
        {
          "output_type": "display_data",
          "data": {
            "image/png": "[encoded data removed]",
            "text/plain": [
              "<Figure size 432x288 with 70 Axes>"
            ]
          },
          "metadata": {
            "needs_background": "light"
          }
        }
      ]
    },
    {
      "cell_type": "markdown",
      "metadata": {
        "id": "XXZ1h1L-gSgM"
      },
      "source": [
        "### Step - 5 (Flattening the images)"
      ]
    },
    {
      "cell_type": "markdown",
      "metadata": {
        "id": "h9PdcnxNgN14"
      },
      "source": [
        "In the next cell we flatten each image into a single dimensional vector so that it is easy to process. You should be able to reason about the dimensions comfortable."
      ]
    },
    {
      "cell_type": "code",
      "metadata": {
        "colab": {
          "base_uri": "https://localhost:8080/"
        },
        "id": "2kQYzkUigWU8",
        "outputId": "6fbe6e04-7435-4b57-8031-ff761a833af3"
      },
      "source": [
        "# Subsample the data for more efficient code execution in this exercise\n",
        "try:\n",
        "    del X_train, y_train, X_val\n",
        "    del X_test, y_test,y_val\n",
        "    print('Clear previously loaded data.')\n",
        "except:\n",
        "    pass\n",
        "(X_train, y_train), (X_test, y_test) = cifar10.load_data()\n",
        "\n",
        "num_training=15000\n",
        "val=1000\n",
        "mask = range(num_training, num_training + val)\n",
        "X_val = X_train[mask]\n",
        "y_val = y_train[(mask)]\n",
        "y_val = np.ravel(y_val)\n",
        "\n",
        "mask = list(range(num_training))\n",
        "X_train = X_train[mask]\n",
        "y_train = y_train[mask]\n",
        "y_train = np.ravel(y_train)\n",
        "\n",
        "num_test = 5000\n",
        "mask = list(range(num_test))\n",
        "X_test = X_test[mask]\n",
        "y_test = y_test[mask]\n",
        "y_test = np.ravel(y_test)\n",
        "\n",
        "\n",
        "# Reshape the image data into rows\n",
        "X_train = np.reshape(X_train, (X_train.shape[0], -1))\n",
        "X_test = np.reshape(X_test, (X_test.shape[0], -1))\n",
        "X_val = np.reshape(X_val, (X_val.shape[0], -1))\n",
        "\n",
        "print('X_train and X_test shapes: ',X_train.shape, X_test.shape)\n",
        "print('y_train and y_test shapes: ',y_train.shape, y_test.shape)\n",
        "print('X_val and y_val shapes: ' ,X_val.shape, y_val.shape)"
      ],
      "execution_count": 5,
      "outputs": [
        {
          "output_type": "stream",
          "name": "stdout",
          "text": [
            "X_train and X_test shapes:  (15000, 3072) (5000, 3072)\n",
            "y_train and y_test shapes:  (15000,) (5000,)\n",
            "X_val and y_val shapes:  (1000, 3072) (1000,)\n"
          ]
        }
      ]
    },
    {
      "cell_type": "markdown",
      "metadata": {
        "id": "m4_mlv4BgcXU"
      },
      "source": [
        "### **The intuition behind KNN algorithm**\n",
        "The K-NN working can be explained on the basis of the below algorithm:\n",
        "\n",
        "**Step-1**: Select the number K nearest neighborhood.\n",
        "\n",
        "**Step-2**: Calculate the Euclidean distance of K number of neighbors to the given datapoint.\n",
        "\n",
        "**Step-3**: Take the K nearest neighbors as per the calculated Euclidean distance to the given point.\n",
        "\n",
        "**Step-4**: Among these k neighbors, count the number of the data points in each category.\n",
        "\n",
        "**Step-5**: Assign the new data points to that category for which the number of the neighbor is maximum."
      ]
    },
    {
      "cell_type": "markdown",
      "metadata": {
        "id": "PLKGonQlgfCY"
      },
      "source": [
        "**Pros**\n",
        "\n",
        "* It is simple to implement.\n",
        "\n",
        "* It is robust to the noisy training data.\n",
        "\n",
        "**cons**\n",
        "\n",
        "* The computation cost is expensive, because of calculating the distance between the data points for all the training samples.\n",
        "* It is lazy algorithm as it doesnt learn from the training data and instead it stores the dataset."
      ]
    },
    {
      "cell_type": "code",
      "metadata": {
        "colab": {
          "base_uri": "https://localhost:8080/"
        },
        "id": "qm18BArMgYRG",
        "outputId": "2d6c1e2a-d59f-45bf-9e8f-1ce97845115f"
      },
      "source": [
        "from sklearn.neighbors import KNeighborsClassifier\n",
        "import time\n",
        "k = int(input(\"Enter the value of k for k-Nearest Neighbor Classifier: \"))\n",
        "print(\"Computation under process\")\n",
        "print(\"Please Wait...\")\n",
        "knn = KNeighborsClassifier(n_neighbors=k)   ##### importing k from the user\n",
        "\n",
        "tic = time.time()\n",
        "knn.fit(X_train, y_train)\n",
        "toc = time.time()\n",
        "duration=toc-tic\n",
        "print('Training duration is: ',duration)\n",
        "\n",
        "start=time.time()\n",
        "y_val_predict= knn.predict(X_val)\n",
        "completed=time.time()\n",
        "duration2=completed-start\n",
        "print('validation duration is:',duration2)\n",
        "\n",
        "print(\"Prediction complete\")\n",
        "print(classification_report(y_val, y_val_predict))"
      ],
      "execution_count": 6,
      "outputs": [
        {
          "output_type": "stream",
          "name": "stdout",
          "text": [
            "Enter the value of k for k-Nearest Neighbor Classifier: 3\n",
            "Computation under process\n",
            "Please Wait...\n",
            "Training duration is:  0.002264738082885742\n",
            "validation duration is: 2.912498950958252\n",
            "Prediction complete\n",
            "              precision    recall  f1-score   support\n",
            "\n",
            "           0       0.26      0.55      0.36        89\n",
            "           1       0.36      0.12      0.18       103\n",
            "           2       0.20      0.51      0.29       106\n",
            "           3       0.22      0.18      0.19       108\n",
            "           4       0.21      0.36      0.26       103\n",
            "           5       0.53      0.17      0.26        93\n",
            "           6       0.25      0.17      0.20       111\n",
            "           7       0.59      0.10      0.17       102\n",
            "           8       0.37      0.45      0.40        91\n",
            "           9       0.40      0.06      0.11        94\n",
            "\n",
            "    accuracy                           0.26      1000\n",
            "   macro avg       0.34      0.27      0.24      1000\n",
            "weighted avg       0.34      0.26      0.24      1000\n",
            "\n"
          ]
        }
      ]
    },
    {
      "cell_type": "markdown",
      "metadata": {
        "id": "wow7jXgcglsW"
      },
      "source": [
        "### **Classification Report**\n",
        "**Precision** is defined as the ratio of true positives to the sum of true and false positives.\n",
        "\n",
        "**Recall** is defined as the ratio of true positives to the sum of true positives and false negatives.\n",
        "\n",
        "**F1_score** is the weighted harmonic mean of precision and recall.\n",
        "\n",
        "**Support** is the number of actual occurrences of the class in the dataset.\n",
        "\n",
        "\n",
        "\n",
        "\n",
        "<!-- ![Alt Text](image path \"title\") -->\n",
        "![Alt Text](https://miro.medium.com/max/1068/1*EXa-_699fntpUoRjZeqAFQ.jpeg \"Optional Title\")"
      ]
    },
    {
      "cell_type": "markdown",
      "metadata": {
        "id": "QzSUKbsAgp59"
      },
      "source": [
        "The **classification report** is like a progress report for the student. Where the progress report depicts the marks of the student which he had gone in numerous of exams. Likewise, the classification report performs numerous tests on the model and displays the output which usually saves the time and increases the readabilty.\n",
        "\n",
        "From the classification report, it can be seen that the model has an average performance ranging from 15 to 50 for precision, recall, f1-score. Accuracy shows in value of 26%."
      ]
    },
    {
      "cell_type": "code",
      "metadata": {
        "colab": {
          "base_uri": "https://localhost:8080/"
        },
        "id": "UIwEaOpYghjG",
        "outputId": "70980df0-ff82-459f-f848-edbba116e3e5"
      },
      "source": [
        "tic=time.time()\n",
        "best_leaf = list(range(1,10))\n",
        "best_neighbors = list(range(1,10))\n",
        "p=[1,2]\n",
        "#Convert to dictionary\n",
        "parameter_tuning = dict(leaf_size=best_leaf, n_neighbors=best_neighbors, p=p)\n",
        "#Create new KNN object\n",
        "knn_2 = KNeighborsClassifier()\n",
        "#Use GridSearch\n",
        "knn_tuning = GridSearchCV(knn_2, parameter_tuning, cv=10)\n",
        "#Fit the model\n",
        "best_model = knn_tuning.fit(X_val,y_val)\n",
        "#Print The value of best Hyperparameters\n",
        "print('Best leaf_size:', best_model.best_estimator_.get_params()['leaf_size'])\n",
        "print('Best p:', best_model.best_estimator_.get_params()['p'])\n",
        "print('Best n_neighbors:', best_model.best_estimator_.get_params()['n_neighbors'])\n",
        "toc=time.time()\n",
        "print(toc-tic)"
      ],
      "execution_count": 7,
      "outputs": [
        {
          "output_type": "stream",
          "name": "stdout",
          "text": [
            "Best leaf_size: 1\n",
            "Best p: 1\n",
            "Best n_neighbors: 7\n",
            "223.40604615211487\n"
          ]
        }
      ]
    },
    {
      "cell_type": "markdown",
      "metadata": {
        "id": "f48dhR_PgwIm"
      },
      "source": [
        "The classification report is like a progress report for the student. Where the progress report depicts the marks of the student which he had gone in numerous of exams. Likewise, the classification report performs numerous tests on the model and displays the output which usually saves the time and increases the readabilty.\n",
        "\n",
        "From the classification report, it can be seen that the model has an average performance ranging from 15 to 50 for precision, recall, f1-score. Accuracy  shows in value of 26%.\n"
      ]
    },
    {
      "cell_type": "code",
      "metadata": {
        "colab": {
          "base_uri": "https://localhost:8080/"
        },
        "id": "m_couvhOgtBt",
        "outputId": "a7ec125f-429f-49c4-812e-7fb3c64cf650"
      },
      "source": [
        "#After the above results we come to know that that the best_leaf=1, best p is 1 and best n_neighbors is 7\n",
        "\n",
        "from sklearn.neighbors import KNeighborsClassifier\n",
        "import time\n",
        "# so taking the above vaules into consideration we tune the knn model\n",
        "\n",
        "print(\"Computation under process\")\n",
        "print(\"Please Wait...\")\n",
        "knn = KNeighborsClassifier(n_neighbors=7,leaf_size=1,p=1)   \n",
        "\n",
        "tic = time.time()\n",
        "knn.fit(X_train, y_train)\n",
        "toc = time.time()\n",
        "duration=toc-tic\n",
        "print('Training duration is: ',duration)\n",
        "\n",
        "start=time.time()\n",
        "y_val_predict= knn.predict(X_val)\n",
        "completed=time.time()\n",
        "duration2=completed-start\n",
        "print('validation duration is:',duration2)\n",
        "\n",
        "print(\"Prediction complete\")\n",
        "print(classification_report(y_val, y_val_predict))\n"
      ],
      "execution_count": 8,
      "outputs": [
        {
          "output_type": "stream",
          "name": "stdout",
          "text": [
            "Computation under process\n",
            "Please Wait...\n",
            "Training duration is:  0.0016605854034423828\n",
            "validation duration is: 46.05100965499878\n",
            "Prediction complete\n",
            "              precision    recall  f1-score   support\n",
            "\n",
            "           0       0.35      0.58      0.44        89\n",
            "           1       0.64      0.14      0.22       103\n",
            "           2       0.23      0.51      0.32       106\n",
            "           3       0.23      0.14      0.17       108\n",
            "           4       0.20      0.40      0.27       103\n",
            "           5       0.46      0.19      0.27        93\n",
            "           6       0.26      0.23      0.24       111\n",
            "           7       0.52      0.17      0.25       102\n",
            "           8       0.41      0.60      0.49        91\n",
            "           9       0.64      0.19      0.30        94\n",
            "\n",
            "    accuracy                           0.31      1000\n",
            "   macro avg       0.39      0.31      0.30      1000\n",
            "weighted avg       0.39      0.31      0.29      1000\n",
            "\n"
          ]
        }
      ]
    },
    {
      "cell_type": "markdown",
      "metadata": {
        "id": "qshnmLFUg30D"
      },
      "source": [
        "#### we can clearly see the increase of accuracy from **26%** to **31%** after the hyper parameter tuning during validation this is the probable best tuning so we gonna move to testing the untouched dataset."
      ]
    },
    {
      "cell_type": "code",
      "metadata": {
        "colab": {
          "base_uri": "https://localhost:8080/"
        },
        "id": "uGAU7Jmkis43",
        "outputId": "80d57674-c016-4603-d41e-0bf6a57e26b3"
      },
      "source": [
        "## testing the model with test dataset\n",
        "st=time.time()\n",
        "y_test_predict= knn.predict(X_test)\n",
        "com=time.time()\n",
        "print('Testing Duration is: ', com-st)\n",
        "print(classification_report(y_test,y_test_predict))"
      ],
      "execution_count": 46,
      "outputs": [
        {
          "output_type": "stream",
          "name": "stdout",
          "text": [
            "Testing Duration is:  245.58119010925293\n",
            "              precision    recall  f1-score   support\n",
            "\n",
            "           0       0.33      0.56      0.41       488\n",
            "           1       0.62      0.23      0.33       505\n",
            "           2       0.22      0.46      0.29       512\n",
            "           3       0.32      0.20      0.24       497\n",
            "           4       0.23      0.42      0.30       507\n",
            "           5       0.40      0.18      0.24       488\n",
            "           6       0.30      0.27      0.28       491\n",
            "           7       0.63      0.20      0.30       495\n",
            "           8       0.45      0.64      0.53       504\n",
            "           9       0.72      0.18      0.28       513\n",
            "\n",
            "    accuracy                           0.33      5000\n",
            "   macro avg       0.42      0.33      0.32      5000\n",
            "weighted avg       0.42      0.33      0.32      5000\n",
            "\n"
          ]
        }
      ]
    },
    {
      "cell_type": "code",
      "metadata": {
        "colab": {
          "base_uri": "https://localhost:8080/"
        },
        "id": "8xlMEdpXlStg",
        "outputId": "eaeb2c91-afda-492f-feeb-0bbf9cec99b5"
      },
      "source": [
        "from sklearn.metrics import accuracy_score\n",
        "print( \"The accuracy of the knn model is: \",accuracy_score(y_test,y_test_predict))\n",
        "print(\"the f1_score of knn model is:\",f1_score( y_test,y_test_predict, average='macro'))"
      ],
      "execution_count": 47,
      "outputs": [
        {
          "output_type": "stream",
          "name": "stdout",
          "text": [
            "The accuracy of the knn model is:  0.333\n",
            "the f1_score of knn model is: 0.322590380050532\n"
          ]
        }
      ]
    },
    {
      "cell_type": "markdown",
      "metadata": {
        "id": "Iz7l4UIhg61H"
      },
      "source": [
        "### **Intution behind SVM algorithm**\n",
        "\n",
        "**SVM** algorithm helps to find the best line or decision boundary; this best boundary or region is called as a hyperplane.The distance between the vectors and the hyperplane is called as margin. And the goal of SVM is to maximize this margin.\n",
        "\n",
        "**Hyperplane** It is use to find out the best decision boundary that helps to classify the data points.\n",
        "\n",
        "**suport vectors** the data points that are the closest to the hyperplane and which affect the position of the hyperplane are termed as Support Vector."
      ]
    },
    {
      "cell_type": "markdown",
      "metadata": {
        "id": "KK1qxKv5g-E6"
      },
      "source": [
        "**Pros**\n",
        "\n",
        "It works really well with a clear margin of separation.\n",
        "\n",
        "It is effective in high dimensional spaces.\n",
        "\n",
        "**Cons**\n",
        "\n",
        "It doesn’t perform well when we have large data set because the required training time is higher.\n",
        "\n",
        "It also doesn’t perform very well, when the data set has more noise"
      ]
    },
    {
      "cell_type": "code",
      "metadata": {
        "colab": {
          "base_uri": "https://localhost:8080/"
        },
        "id": "We-xKzxzg4P-",
        "outputId": "c66a5223-a5d6-453e-ec89-b1a47ce172ea"
      },
      "source": [
        "from sklearn.svm import SVC\n",
        "import time\n",
        "\n",
        "clf = SVC()  \n",
        "\n",
        "tic = time.time()\n",
        "clf.fit(X_train, y_train)\n",
        "toc = time.time()\n",
        "duration=toc-tic\n",
        "print('Training duration is: ',duration)\n",
        "\n",
        "start=time.time()\n",
        "y_val_predict= clf.predict(X_val)\n",
        "completed=time.time()\n",
        "duration2=completed-start\n",
        "print('validation duration is:',duration2)\n",
        "\n",
        "print(\"Prediction complete\")\n",
        "print(classification_report(y_val, y_val_predict))"
      ],
      "execution_count": 9,
      "outputs": [
        {
          "output_type": "stream",
          "name": "stdout",
          "text": [
            "Training duration is:  447.83129596710205\n",
            "validation duration is: 43.382887840270996\n",
            "Prediction complete\n",
            "              precision    recall  f1-score   support\n",
            "\n",
            "           0       0.56      0.51      0.53        89\n",
            "           1       0.58      0.52      0.55       103\n",
            "           2       0.34      0.39      0.36       106\n",
            "           3       0.33      0.33      0.33       108\n",
            "           4       0.38      0.36      0.37       103\n",
            "           5       0.36      0.33      0.34        93\n",
            "           6       0.39      0.41      0.40       111\n",
            "           7       0.51      0.40      0.45       102\n",
            "           8       0.59      0.60      0.60        91\n",
            "           9       0.48      0.62      0.54        94\n",
            "\n",
            "    accuracy                           0.44      1000\n",
            "   macro avg       0.45      0.45      0.45      1000\n",
            "weighted avg       0.45      0.44      0.44      1000\n",
            "\n"
          ]
        }
      ]
    },
    {
      "cell_type": "code",
      "metadata": {
        "colab": {
          "base_uri": "https://localhost:8080/"
        },
        "id": "4Wm-FDlxh3Ov",
        "outputId": "537e1369-e70b-42d4-fe83-b3b8e6017f36"
      },
      "source": [
        "tic=time.time()\n",
        "## creating a dictionary for parameter tuning\n",
        "parameter_tuning = {'C': [0.1,1, 10, 100], 'gamma': [1,0.1,0.01,0.001],'kernel': ['rbf', 'poly', 'sigmoid']}         \n",
        "svc_2 = SVC()\n",
        "#Use GridSearch\n",
        "svc_tuning = GridSearchCV(svc_2, parameter_tuning)\n",
        "#Fit the model\n",
        "best_model = svc_tuning.fit(X_val,y_val)\n",
        "#Print The value of best Hyperparameters\n",
        "print('Best c(Regularization) value:', best_model.best_estimator_.get_params()['C'])\n",
        "print('Best gamma:', best_model.best_estimator_.get_params()['gamma'])\n",
        "print('Best kernel:', best_model.best_estimator_.get_params()['kernel'])\n",
        "toc=time.time()\n",
        "print(toc-tic)"
      ],
      "execution_count": 15,
      "outputs": [
        {
          "output_type": "stream",
          "name": "stdout",
          "text": [
            "Best c(Regularization) value: 0.1\n",
            "Best gamma: 1\n",
            "Best kernel: poly\n",
            "362.64636158943176\n"
          ]
        }
      ]
    },
    {
      "cell_type": "markdown",
      "metadata": {
        "id": "SDRCh0FCqm8S"
      },
      "source": [
        "### After the above results of parameter tuning we get to know that c with 0.1 and gamma with 1 and kernel of poly gives the best results."
      ]
    },
    {
      "cell_type": "code",
      "metadata": {
        "colab": {
          "base_uri": "https://localhost:8080/"
        },
        "id": "VOZdH46OnL8a",
        "outputId": "27468f57-3f7d-4309-e6b2-f9535d65ccbd"
      },
      "source": [
        "from sklearn.svm import SVC\n",
        "import time\n",
        "\n",
        "clf = SVC(C=0.1,gamma=1,kernel='poly')  \n",
        "\n",
        "tic = time.time()\n",
        "clf.fit(X_train, y_train)\n",
        "toc = time.time()\n",
        "duration=toc-tic\n",
        "print('Training duration is: ',duration)\n",
        "\n",
        "start=time.time()\n",
        "y_val_predict= clf.predict(X_val)\n",
        "completed=time.time()\n",
        "duration2=completed-start\n",
        "print('validation duration is:',duration2)\n",
        "\n",
        "print(\"Prediction complete\")\n",
        "print(classification_report(y_val, y_val_predict))"
      ],
      "execution_count": 16,
      "outputs": [
        {
          "output_type": "stream",
          "name": "stdout",
          "text": [
            "Training duration is:  523.6094818115234\n",
            "validation duration is: 26.973674297332764\n",
            "Prediction complete\n",
            "              precision    recall  f1-score   support\n",
            "\n",
            "           0       0.48      0.53      0.50        89\n",
            "           1       0.54      0.47      0.50       103\n",
            "           2       0.24      0.29      0.26       106\n",
            "           3       0.35      0.34      0.35       108\n",
            "           4       0.39      0.46      0.42       103\n",
            "           5       0.29      0.32      0.31        93\n",
            "           6       0.44      0.32      0.37       111\n",
            "           7       0.52      0.49      0.50       102\n",
            "           8       0.55      0.55      0.55        91\n",
            "           9       0.57      0.53      0.55        94\n",
            "\n",
            "    accuracy                           0.42      1000\n",
            "   macro avg       0.44      0.43      0.43      1000\n",
            "weighted avg       0.43      0.42      0.43      1000\n",
            "\n"
          ]
        }
      ]
    },
    {
      "cell_type": "code",
      "metadata": {
        "id": "HPic56q7zfVH"
      },
      "source": [
        "plt.plot(results_NB['var_smoothing'], results_NB['test_score'], marker = '.')    \n",
        "plt.xlabel('Var. Smoothing')\n",
        "plt.ylabel(\"Mean CV Score\")\n",
        "plt.title(\"NB Performance Comparison\")\n",
        "plt.show()"
      ],
      "execution_count": null,
      "outputs": []
    },
    {
      "cell_type": "markdown",
      "metadata": {
        "id": "1CNdknoLrgFl"
      },
      "source": [
        "\n",
        "we can clearly see the increase of f1_score near to 50% after the hyper parameter tuning during validation this is the probable best tuning so we gonna move to testing the untouched dataset."
      ]
    },
    {
      "cell_type": "code",
      "metadata": {
        "colab": {
          "base_uri": "https://localhost:8080/"
        },
        "id": "HV4Oi_xLuAMM",
        "outputId": "03675aa9-b02b-4940-fd8a-2f4c75daf14e"
      },
      "source": [
        "## testing the model with test dataset\n",
        "st=time.time()\n",
        "y_test_predicted= clf.predict(X_test)\n",
        "com=time.time()\n",
        "print('Testing Duration is: ', com-st)\n",
        "print(classification_report(y_test,y_test_predicted))"
      ],
      "execution_count": 19,
      "outputs": [
        {
          "output_type": "stream",
          "name": "stdout",
          "text": [
            "Testing Duration is:  131.88028049468994\n",
            "              precision    recall  f1-score   support\n",
            "\n",
            "           0       0.47      0.51      0.49       488\n",
            "           1       0.55      0.57      0.56       505\n",
            "           2       0.32      0.38      0.35       512\n",
            "           3       0.28      0.30      0.29       497\n",
            "           4       0.39      0.39      0.39       507\n",
            "           5       0.35      0.33      0.34       488\n",
            "           6       0.46      0.41      0.43       491\n",
            "           7       0.54      0.51      0.52       495\n",
            "           8       0.60      0.62      0.61       504\n",
            "           9       0.55      0.46      0.50       513\n",
            "\n",
            "    accuracy                           0.45      5000\n",
            "   macro avg       0.45      0.45      0.45      5000\n",
            "weighted avg       0.45      0.45      0.45      5000\n",
            "\n"
          ]
        }
      ]
    },
    {
      "cell_type": "code",
      "metadata": {
        "colab": {
          "base_uri": "https://localhost:8080/"
        },
        "id": "Fgh5CgPVuSOJ",
        "outputId": "143814fc-d4f1-422c-8b2a-249666a8ac7e"
      },
      "source": [
        "from sklearn.metrics import accuracy_score\n",
        "print( \"The accuracy of the svm model is: \",accuracy_score(y_test,y_test_predicted))\n",
        "print(\"f1_score of svm model is:\",f1_score(y_test_predicted, y_test, average='macro'))"
      ],
      "execution_count": 44,
      "outputs": [
        {
          "output_type": "stream",
          "name": "stdout",
          "text": [
            "The accuracy of the svm model is:  0.4482\n",
            "f1_score of svm model is: 0.4489225270704099\n"
          ]
        }
      ]
    },
    {
      "cell_type": "markdown",
      "metadata": {
        "id": "mMOsZkrRvApH"
      },
      "source": [
        "## **Intuition behind naive bayes**\n",
        "\n",
        "**Bayes' theorem** is also known as Bayes' Rule or Bayes' law, which is used to determine the probability of a hypothesis with prior knowledge. It depends on the conditional probability.\n",
        "\n",
        "\n",
        "<!-- ![Alt Text](image path \"title\") -->\n",
        "![Alt Text](https://static.javatpoint.com/tutorial/machine-learning/images/naive-bayes-classifier-algorithm.png \"Optional Title\")\n",
        "\n",
        "Where,\n",
        "\n",
        "**P(A|B) is Posterior probability**: Probability of hypothesis A on the observed event B.\n",
        "\n",
        "**P(B|A) is Likelihood probability**: Probability of the evidence given that the probability of a hypothesis is true.\n",
        "\n",
        "**P(A) is Prior Probability**: Probability of hypothesis before observing the evidence.\n",
        "\n",
        "**P(B) is Marginal Probability**: Probability of Evidence.\n",
        "\n"
      ]
    },
    {
      "cell_type": "markdown",
      "metadata": {
        "id": "t0rdHFCEwvI9"
      },
      "source": [
        "**Pros**\n",
        "\n",
        "* It performs well in Multi-class predictions as compared to the other Algorithms.\n",
        "* It is the most popular choice for text classification problems.\n",
        "\n",
        "**Cons**\n",
        "* Naive Bayes assumes that all features are independent or unrelated, so it cannot learn the relationship between features.\n"
      ]
    },
    {
      "cell_type": "code",
      "metadata": {
        "colab": {
          "base_uri": "https://localhost:8080/"
        },
        "id": "gvfeJtwBwlRr",
        "outputId": "ccbf143f-e641-49eb-81d7-472fa17c5875"
      },
      "source": [
        "from sklearn.naive_bayes import GaussianNB\n",
        "import time\n",
        "\n",
        "naive_bayes_clf=GaussianNB()\n",
        "\n",
        "tic = time.time()\n",
        "naive_bayes_clf.fit(X_train, y_train)\n",
        "toc = time.time()\n",
        "duration=toc-tic\n",
        "print('Training duration is: ',duration)\n",
        "\n",
        "start=time.time()\n",
        "y_val_pre= naive_bayes_clf.predict(X_val)\n",
        "completed=time.time()\n",
        "duration2=completed-start\n",
        "print('validation duration is:',duration2)\n",
        "\n",
        "print(\"Prediction complete\")\n",
        "print(classification_report(y_val, y_val_pre))"
      ],
      "execution_count": 22,
      "outputs": [
        {
          "output_type": "stream",
          "name": "stdout",
          "text": [
            "Training duration is:  0.4291536808013916\n",
            "validation duration is: 0.14630770683288574\n",
            "Prediction complete\n",
            "              precision    recall  f1-score   support\n",
            "\n",
            "           0       0.29      0.51      0.37        89\n",
            "           1       0.40      0.17      0.23       103\n",
            "           2       0.19      0.07      0.10       106\n",
            "           3       0.24      0.06      0.10       108\n",
            "           4       0.23      0.38      0.28       103\n",
            "           5       0.33      0.32      0.33        93\n",
            "           6       0.20      0.40      0.26       111\n",
            "           7       0.31      0.10      0.15       102\n",
            "           8       0.41      0.46      0.44        91\n",
            "           9       0.36      0.45      0.40        94\n",
            "\n",
            "    accuracy                           0.28      1000\n",
            "   macro avg       0.30      0.29      0.27      1000\n",
            "weighted avg       0.29      0.28      0.26      1000\n",
            "\n"
          ]
        }
      ]
    },
    {
      "cell_type": "code",
      "metadata": {
        "id": "e5wXX77R2BeC"
      },
      "source": [
        "params_NB = {'var_smoothing': np.logspace(0,-9, num=100)}\n",
        "\n",
        "gs_NB = GridSearchCV(estimator=naive_bayes_clf, \n",
        "                     param_grid=params_NB, \n",
        "                     cv=cv_method,\n",
        "                     verbose=1, \n",
        "                     scoring='accuracy')\n"
      ],
      "execution_count": 28,
      "outputs": []
    },
    {
      "cell_type": "code",
      "metadata": {
        "colab": {
          "base_uri": "https://localhost:8080/"
        },
        "id": "r1KcKVOB1L-F",
        "outputId": "65d65072-a233-4de8-ac95-d158656dfc26"
      },
      "source": [
        "tic=time.time()       \n",
        "NB_2 = GaussianNB()\n",
        "#Use GridSearch\n",
        "NB_tuning = GridSearchCV(NB_2, params_NB)\n",
        "#Fit the model\n",
        "best_model = NB_tuning.fit(X_val,y_val)\n",
        "#Print The value of best Hyperparameters\n",
        "print('Best var_smoothing value:', best_model.best_estimator_.get_params()['var_smoothing'])\n",
        "toc=time.time()\n",
        "print(toc-tic)"
      ],
      "execution_count": 32,
      "outputs": [
        {
          "output_type": "stream",
          "name": "stdout",
          "text": [
            "Best var_smoothing value: 0.04328761281083057\n",
            "27.360945224761963\n"
          ]
        }
      ]
    },
    {
      "cell_type": "code",
      "metadata": {
        "id": "l8rqFyU13Ydv"
      },
      "source": [
        "import pandas as pd\n",
        "results_NB = pd.DataFrame(NB_tuning.cv_results_['params'])\n",
        "results_NB['test_score'] = NB_tuning.cv_results_['mean_test_score']"
      ],
      "execution_count": 37,
      "outputs": []
    },
    {
      "cell_type": "code",
      "metadata": {
        "colab": {
          "base_uri": "https://localhost:8080/",
          "height": 295
        },
        "id": "43OAHiIf4UHc",
        "outputId": "fe805ba5-bf6b-4407-a402-989a422c7849"
      },
      "source": [
        "plt.plot(results_NB['var_smoothing'], results_NB['test_score'], marker = '.')    \n",
        "plt.xlabel('Var. Smoothing')\n",
        "plt.ylabel(\"Mean CV Score\")\n",
        "plt.title(\"NB Performance Comparison\")\n",
        "plt.show()"
      ],
      "execution_count": 38,
      "outputs": [
        {
          "output_type": "display_data",
          "data": {
            "image/png": "[encoded data removed]",
            "text/plain": [
              "<Figure size 432x288 with 1 Axes>"
            ]
          },
          "metadata": {
            "needs_background": "light"
          }
        }
      ]
    },
    {
      "cell_type": "code",
      "metadata": {
        "colab": {
          "base_uri": "https://localhost:8080/"
        },
        "id": "tszpMiUa4sp5",
        "outputId": "f721ceb1-c6d8-4c78-8766-7eaced4af91b"
      },
      "source": [
        "#testing the model with untouched data\n",
        "NB_2 = GaussianNB(var_smoothing=0.04328761281083057)\n",
        "NB_2.fit(X_train,y_train)\n",
        "st=time.time()\n",
        "y_test_predicte= NB_2.predict(X_test)\n",
        "com=time.time()\n",
        "print('Testing Duration is: ', com-st)\n",
        "print(classification_report(y_test,y_test_predicte))"
      ],
      "execution_count": 40,
      "outputs": [
        {
          "output_type": "stream",
          "name": "stdout",
          "text": [
            "Testing Duration is:  0.7604286670684814\n",
            "              precision    recall  f1-score   support\n",
            "\n",
            "           0       0.27      0.47      0.34       488\n",
            "           1       0.41      0.13      0.20       505\n",
            "           2       0.17      0.07      0.10       512\n",
            "           3       0.25      0.04      0.07       497\n",
            "           4       0.22      0.41      0.29       507\n",
            "           5       0.30      0.24      0.27       488\n",
            "           6       0.24      0.50      0.33       491\n",
            "           7       0.37      0.12      0.18       495\n",
            "           8       0.39      0.52      0.44       504\n",
            "           9       0.41      0.42      0.41       513\n",
            "\n",
            "    accuracy                           0.29      5000\n",
            "   macro avg       0.30      0.29      0.26      5000\n",
            "weighted avg       0.30      0.29      0.26      5000\n",
            "\n"
          ]
        }
      ]
    },
    {
      "cell_type": "code",
      "metadata": {
        "colab": {
          "base_uri": "https://localhost:8080/"
        },
        "id": "FZcpJ3KS7dYa",
        "outputId": "e605e1ac-c25d-43d9-f9a5-84b58cf465ba"
      },
      "source": [
        "from sklearn.metrics import f1_score\n",
        "f1_score(y_test_predicte, y_test, average='macro')"
      ],
      "execution_count": 42,
      "outputs": [
        {
          "output_type": "execute_result",
          "data": {
            "text/plain": [
              "0.26272293068852826"
            ]
          },
          "metadata": {},
          "execution_count": 42
        }
      ]
    },
    {
      "cell_type": "markdown",
      "metadata": {
        "id": "ZfodzSPD5V8Z"
      },
      "source": [
        "##The algorithms performance details tabulated below:\n",
        "\n",
        "Algorithm | Accuracy | F1_score\n",
        ":-|:-:|-:\n",
        "**KNN**|*33*|32 \n",
        "**SVM**|*44*| 44\n",
        "**NB**|*29*| 26"
      ]
    },
    {
      "cell_type": "code",
      "metadata": {
        "id": "j8b8ZGob9FLA"
      },
      "source": [
        ""
      ],
      "execution_count": null,
      "outputs": []
    }
  ]
}