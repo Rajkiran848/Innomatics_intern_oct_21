{
  "nbformat": 4,
  "nbformat_minor": 0,
  "metadata": {
    "colab": {
      "name": "Task6(numpy).ipynb",
      "provenance": [],
      "collapsed_sections": []
    },
    "kernelspec": {
      "name": "python3",
      "display_name": "Python 3"
    },
    "language_info": {
      "name": "python"
    }
  },
  "cells": [
    {
      "cell_type": "markdown",
      "metadata": {
        "id": "UC1PeSCorUW5"
      },
      "source": [
        "### **Arrays**"
      ]
    },
    {
      "cell_type": "markdown",
      "metadata": {
        "id": "IrWygYF8vURw"
      },
      "source": [
        "**TASK**\n",
        "\n",
        "You are given a space separated list of numbers.\n",
        "Your task is to print a reversed NumPy array with the element type float.\n",
        "\n",
        "Input Format\n",
        "\n",
        "A single line of input containing space separated numbers.\n",
        "\n",
        "Output Format\n",
        "\n",
        "Print the reverse NumPy array with type float."
      ]
    },
    {
      "cell_type": "code",
      "metadata": {
        "colab": {
          "base_uri": "https://localhost:8080/"
        },
        "id": "WDatN7y4wUZq",
        "outputId": "f30cae5d-c4b2-4333-e6a5-57e62fb05555"
      },
      "source": [
        "import numpy\n",
        "\n",
        "def arrays(arr):\n",
        "    arr= numpy.array(arr,float)\n",
        "    return(arr[::-1])\n",
        "    \n",
        "    \n",
        "arr = input().strip().split(' ')\n",
        "result = arrays(arr)\n",
        "print(result)"
      ],
      "execution_count": null,
      "outputs": [
        {
          "output_type": "stream",
          "name": "stdout",
          "text": [
            "1 2 3 4 -8 -10\n",
            "[-10.  -8.   4.   3.   2.   1.]\n"
          ]
        }
      ]
    },
    {
      "cell_type": "markdown",
      "metadata": {
        "id": "lR_TIgCaxGRT"
      },
      "source": [
        "### **Shape and Reshape**"
      ]
    },
    {
      "cell_type": "markdown",
      "metadata": {
        "id": "Wh6Pl68-wW_u"
      },
      "source": [
        "**TASK**\n",
        "\n",
        "You are given a space separated list of nine integers. Your task is to convert this list into a 3X3 NumPy array.\n",
        "\n",
        "Input Format\n",
        "\n",
        "A single line of input containing 9 space separated integers.\n",
        "\n",
        "Output Format\n",
        "\n",
        "Print the 3X3 NumPy array."
      ]
    },
    {
      "cell_type": "code",
      "metadata": {
        "colab": {
          "base_uri": "https://localhost:8080/"
        },
        "id": "-kLbfW3dx8vL",
        "outputId": "1555597f-09ab-4c33-af56-8ed0de5cdd0a"
      },
      "source": [
        "import numpy\n",
        "arr=numpy.array(input().split(),int)\n",
        "print(numpy.reshape(arr,(3,3)))"
      ],
      "execution_count": null,
      "outputs": [
        {
          "output_type": "stream",
          "name": "stdout",
          "text": [
            "1 2 3 4 5 6 7 8 9\n",
            "[[1 2 3]\n",
            " [4 5 6]\n",
            " [7 8 9]]\n"
          ]
        }
      ]
    },
    {
      "cell_type": "markdown",
      "metadata": {
        "id": "ddQgFOMFz6Tc"
      },
      "source": [
        "### **Transpose and Flatten**"
      ]
    },
    {
      "cell_type": "markdown",
      "metadata": {
        "id": "tnXdICp9zeBS"
      },
      "source": [
        "**TASK**\n",
        "\n",
        "You are given a NXM integer array matrix with space separated elements ( N= rows and  M= columns).\n",
        "Your task is to print the transpose and flatten results.\n",
        "\n",
        "Input Format\n",
        "\n",
        "The first line contains the space separated values of N and M.\n",
        "The next N lines contains the space separated elements of M columns."
      ]
    },
    {
      "cell_type": "code",
      "metadata": {
        "colab": {
          "base_uri": "https://localhost:8080/"
        },
        "id": "kxGYslFO0MTL",
        "outputId": "2b615519-4107-4923-a475-115c9e1b3693"
      },
      "source": [
        "import numpy\n",
        "n, m = map(int, input().split())\n",
        "arr= numpy.array([input().split() for _ in range(n)],int)\n",
        "print(arr.transpose(),arr.flatten(),sep=\"\\n\")\n"
      ],
      "execution_count": null,
      "outputs": [
        {
          "output_type": "stream",
          "name": "stdout",
          "text": [
            "3 3\n",
            "1 2\n",
            "3 4\n",
            "5 6\n",
            "[[1 3 5]\n",
            " [2 4 6]]\n",
            "[1 2 3 4 5 6]\n"
          ]
        }
      ]
    },
    {
      "cell_type": "markdown",
      "metadata": {
        "id": "NULElRN65XU0"
      },
      "source": [
        "### **Concatenate**"
      ]
    },
    {
      "cell_type": "markdown",
      "metadata": {
        "id": "LQL-y67V_XT9"
      },
      "source": [
        "**TASK**\n",
        "\n",
        "You are given two integer arrays of size NXP and MXP (N &M  are rows, and P is the column). Your task is to concatenate the arrays along axis O."
      ]
    },
    {
      "cell_type": "code",
      "metadata": {
        "colab": {
          "base_uri": "https://localhost:8080/"
        },
        "id": "0TDcbNu0AL2F",
        "outputId": "f9d7747c-bd4c-47f4-c460-fe101dc32e70"
      },
      "source": [
        "import numpy\n",
        "N,M,P= map(int,input().split())\n",
        "arr= numpy.array([input().split() for _ in range(N+M)],int)\n",
        "print(arr)"
      ],
      "execution_count": null,
      "outputs": [
        {
          "output_type": "stream",
          "name": "stdout",
          "text": [
            "4 3 2\n",
            "1 2\n",
            "2 3\n",
            "3 4 \n",
            "4 5\n",
            "5 6\n",
            "6 7\n",
            "7 8\n",
            "[[1 2]\n",
            " [2 3]\n",
            " [3 4]\n",
            " [4 5]\n",
            " [5 6]\n",
            " [6 7]\n",
            " [7 8]]\n"
          ]
        }
      ]
    },
    {
      "cell_type": "markdown",
      "metadata": {
        "id": "8HwXqcEsCOjy"
      },
      "source": [
        "### **Zeros and Ones**"
      ]
    },
    {
      "cell_type": "markdown",
      "metadata": {
        "id": "jPQ-Q-A4A6_N"
      },
      "source": [
        "**TASK**\n",
        "\n",
        "You are given the shape of the array in the form of space-separated integers, each integer representing the size of different dimensions, your task is to print an array of the given shape and integer type using the tools numpy.zeros and numpy.ones.\n",
        "\n",
        "Input Format\n",
        "\n",
        "A single line containing the space-separated integers."
      ]
    },
    {
      "cell_type": "code",
      "metadata": {
        "colab": {
          "base_uri": "https://localhost:8080/"
        },
        "id": "fyRfhVifCUh0",
        "outputId": "2276553d-02c1-41ec-e501-226638c0b70d"
      },
      "source": [
        "import numpy\n",
        "dimensions=list(map(int,input().split()))\n",
        "print(numpy.zeros(dimensions, dtype = numpy.int))\n",
        "print(numpy.ones(dimensions, dtype = numpy.int))\n",
        "  "
      ],
      "execution_count": 1,
      "outputs": [
        {
          "output_type": "stream",
          "name": "stdout",
          "text": [
            "3 3 3\n",
            "[[[0 0 0]\n",
            "  [0 0 0]\n",
            "  [0 0 0]]\n",
            "\n",
            " [[0 0 0]\n",
            "  [0 0 0]\n",
            "  [0 0 0]]\n",
            "\n",
            " [[0 0 0]\n",
            "  [0 0 0]\n",
            "  [0 0 0]]]\n",
            "[[[1 1 1]\n",
            "  [1 1 1]\n",
            "  [1 1 1]]\n",
            "\n",
            " [[1 1 1]\n",
            "  [1 1 1]\n",
            "  [1 1 1]]\n",
            "\n",
            " [[1 1 1]\n",
            "  [1 1 1]\n",
            "  [1 1 1]]]\n"
          ]
        }
      ]
    },
    {
      "cell_type": "markdown",
      "metadata": {
        "id": "ed8tHO73-Bra"
      },
      "source": [
        "### **Eye and Identity**"
      ]
    },
    {
      "cell_type": "markdown",
      "metadata": {
        "id": "EdWBD5lR-DX-"
      },
      "source": [
        "**TASK**\n",
        "\n",
        "Your task is to print an array of size NXM with its main diagonal elements as 1's and 0's everywhere else.\n",
        "\n",
        "Input Format\n",
        "\n",
        "A single line containing the space separated values of N and M.\n",
        "N denotes the rows.\n",
        "M denotes the columns.\n",
        "\n",
        "Output Format\n",
        "\n",
        "Print the desired NXM array."
      ]
    },
    {
      "cell_type": "code",
      "metadata": {
        "colab": {
          "base_uri": "https://localhost:8080/"
        },
        "id": "oT9K0qp9-ZMY",
        "outputId": "9d7e94d2-f942-4b70-f539-dc56f61c7bf2"
      },
      "source": [
        "import numpy\n",
        "N,M=map(int,input().split())\n",
        "numpy.set_printoptions(sign=' ')\n",
        "print( numpy.eye(N,M))"
      ],
      "execution_count": 9,
      "outputs": [
        {
          "output_type": "stream",
          "name": "stdout",
          "text": [
            "3 3\n",
            "[[ 1.  0.  0.]\n",
            " [ 0.  1.  0.]\n",
            " [ 0.  0.  1.]]\n"
          ]
        }
      ]
    },
    {
      "cell_type": "markdown",
      "metadata": {
        "id": "LX4AQfDz_7hT"
      },
      "source": [
        "### **Floor, Ceil and Rint**"
      ]
    },
    {
      "cell_type": "markdown",
      "metadata": {
        "id": "T-Q8D0rHCSYI"
      },
      "source": [
        "**TASK**\n",
        "\n",
        "You are given a 1-D array, A. Your task is to print the floor,ceil  and rint of all the elements of A."
      ]
    },
    {
      "cell_type": "code",
      "metadata": {
        "colab": {
          "base_uri": "https://localhost:8080/"
        },
        "id": "DpcJaFRSDRAF",
        "outputId": "53de1e0b-49f9-490d-9736-b5e3fec61e37"
      },
      "source": [
        "import numpy\n",
        "arr=numpy.array(input().split(),float)\n",
        "print(numpy.floor(arr),numpy.ceil(arr),numpy.rint(arr),sep=\"\\n\")"
      ],
      "execution_count": 24,
      "outputs": [
        {
          "output_type": "stream",
          "name": "stdout",
          "text": [
            "1.1 2.2 3.3 4.4 5.5 6.6 7.7 8.8 9.9\n",
            "[ 1.  2.  3.  4.  5.  6.  7.  8.  9.]\n",
            "[  2.   3.   4.   5.   6.   7.   8.   9.  10.]\n",
            "[  1.   2.   3.   4.   6.   7.   8.   9.  10.]\n"
          ]
        }
      ]
    },
    {
      "cell_type": "markdown",
      "metadata": {
        "id": "0VEGrESRDmAL"
      },
      "source": [
        "### **Sum and Prod**"
      ]
    },
    {
      "cell_type": "markdown",
      "metadata": {
        "id": "5y0FWUNKGHhL"
      },
      "source": [
        "**TASK**\n",
        "\n",
        "You are given a 2-D array with dimensions NXM.\n",
        "Your task is to perform the sum tool over axis 0 and then find the product of that result.\n",
        "\n"
      ]
    },
    {
      "cell_type": "code",
      "metadata": {
        "colab": {
          "base_uri": "https://localhost:8080/"
        },
        "id": "siBugbhkGXJx",
        "outputId": "cdc3740a-c42e-4d52-ea3c-12b433b923a4"
      },
      "source": [
        "N,M= map(int,input().split())\n",
        "arr=numpy.array([input().split() for _ in range(N)],int)\n",
        "s=numpy.sum(arr,axis=0)\n",
        "print(numpy.prod(s))"
      ],
      "execution_count": 30,
      "outputs": [
        {
          "output_type": "stream",
          "name": "stdout",
          "text": [
            "2 2\n",
            "1 2\n",
            "3 4\n",
            "24\n"
          ]
        }
      ]
    },
    {
      "cell_type": "markdown",
      "metadata": {
        "id": "WtEUo2f3Iz5O"
      },
      "source": [
        "### **Min and Max**"
      ]
    },
    {
      "cell_type": "markdown",
      "metadata": {
        "id": "c9tpMzO5HWHm"
      },
      "source": [
        "**TASK**\n",
        "\n",
        "You are given a 2-D array with dimensions MXN.\n",
        "Your task is to perform the min function over axis 1 and then find the max of that."
      ]
    },
    {
      "cell_type": "code",
      "metadata": {
        "colab": {
          "base_uri": "https://localhost:8080/"
        },
        "id": "_0mxKx6qJAfW",
        "outputId": "340a3d8a-3f5f-46e3-e279-b865720e8ac3"
      },
      "source": [
        "N,M= map(int,input().split())\n",
        "arr=numpy.array([input().split() for _ in range(N)],int)\n",
        "mi=numpy.min(arr,axis=1)\n",
        "print(numpy.max(mi))"
      ],
      "execution_count": 32,
      "outputs": [
        {
          "output_type": "stream",
          "name": "stdout",
          "text": [
            "4 2\n",
            "2 5\n",
            "3 7\n",
            "1 3\n",
            "4 0\n",
            "3\n"
          ]
        }
      ]
    },
    {
      "cell_type": "markdown",
      "metadata": {
        "id": "8Jg7i8ODI-Ti"
      },
      "source": [
        "### **Mean, Var, and Std**"
      ]
    },
    {
      "cell_type": "markdown",
      "metadata": {
        "id": "VOJwHO1_KnYf"
      },
      "source": [
        "**TASK**\n",
        "\n",
        "You are given a 2-D array of size X.\n",
        "Your task is to find:\n",
        "\n",
        "The mean along axis 1\n",
        "\n",
        "The var along axis 0\n",
        "\n",
        "The std along axis none\n"
      ]
    },
    {
      "cell_type": "code",
      "metadata": {
        "colab": {
          "base_uri": "https://localhost:8080/"
        },
        "id": "c98pPG8zKmUL",
        "outputId": "1310c2a0-8949-424b-9ff2-e4f89fa5a21b"
      },
      "source": [
        "N,M= map(int,input().split())\n",
        "arr=numpy.array([input().split() for _ in range(N)],int)\n",
        "print(numpy.mean(arr,axis=1),numpy.var(arr,axis=0),round(numpy.std(arr),11),sep=\"\\n\")"
      ],
      "execution_count": 35,
      "outputs": [
        {
          "output_type": "stream",
          "name": "stdout",
          "text": [
            "2 2\n",
            "1 2\n",
            "3 4\n",
            "[ 1.5  3.5]\n",
            "[ 1.  1.]\n",
            "1.11803398875\n"
          ]
        }
      ]
    },
    {
      "cell_type": "markdown",
      "metadata": {
        "id": "OR8vdQdXMxxi"
      },
      "source": [
        "### **Dot and Cross**"
      ]
    },
    {
      "cell_type": "markdown",
      "metadata": {
        "id": "lCntV5lOLHhb"
      },
      "source": [
        "**TASK**\n",
        "\n",
        "You are given two arrays A and B. Both have dimensions of NXN.\n",
        "Your task is to compute their matrix product."
      ]
    },
    {
      "cell_type": "code",
      "metadata": {
        "colab": {
          "base_uri": "https://localhost:8080/"
        },
        "id": "-bbNkFjpNb8l",
        "outputId": "ea94d709-7399-4b5f-c611-7cd1ab0c953d"
      },
      "source": [
        "N=int(input())\n",
        "arr1= numpy.array([input().split() for _ in range(N)],int)\n",
        "arr2= numpy.array([input().split() for _ in range(N)],int)\n",
        "print(numpy.dot(arr1,arr2))"
      ],
      "execution_count": 39,
      "outputs": [
        {
          "output_type": "stream",
          "name": "stdout",
          "text": [
            "2\n",
            "1 2\n",
            "3 4\n",
            "1 2\n",
            "3 4\n",
            "[[ 7 10]\n",
            " [15 22]]\n"
          ]
        }
      ]
    },
    {
      "cell_type": "markdown",
      "metadata": {
        "id": "W_PJsO3XPIv_"
      },
      "source": [
        "### **Inner and Outer**"
      ]
    },
    {
      "cell_type": "markdown",
      "metadata": {
        "id": "lprsAz1qOFzs"
      },
      "source": [
        "**TASK**\n",
        "\n",
        "You are given two arrays: A and B.\n",
        "Your task is to compute their inner and outer product."
      ]
    },
    {
      "cell_type": "code",
      "metadata": {
        "colab": {
          "base_uri": "https://localhost:8080/"
        },
        "id": "a_CaCIm0PRUH",
        "outputId": "b094b671-9d57-40fe-c3d3-fe3441fd9577"
      },
      "source": [
        "import numpy\n",
        "A=numpy.array(input().split(),int)\n",
        "B=numpy.array(input().split(),int)\n",
        "print(numpy.inner(A,B),numpy.outer(A,B),sep=\"\\n\")\n"
      ],
      "execution_count": 41,
      "outputs": [
        {
          "output_type": "stream",
          "name": "stdout",
          "text": [
            "0 1\n",
            "2 3\n",
            "3\n",
            "[[0 0]\n",
            " [2 3]]\n"
          ]
        }
      ]
    },
    {
      "cell_type": "markdown",
      "metadata": {
        "id": "ipL4hXetQ1b9"
      },
      "source": [
        "### **Polynomials**"
      ]
    },
    {
      "cell_type": "markdown",
      "metadata": {
        "id": "ZVj0bNqjQSXa"
      },
      "source": [
        "**TASK**\n",
        "\n",
        "You are given the coefficients of a polynomial P.\n",
        "Your task is to find the value of P at point x."
      ]
    },
    {
      "cell_type": "code",
      "metadata": {
        "colab": {
          "base_uri": "https://localhost:8080/"
        },
        "id": "kGXEvszgRAf7",
        "outputId": "24e6f4cd-c932-442f-8662-48540dfb9352"
      },
      "source": [
        " import numpy\n",
        "P = list(map(float,input().split()))\n",
        "x=input()\n",
        "print(numpy.polyval(P, float(x)))"
      ],
      "execution_count": 45,
      "outputs": [
        {
          "output_type": "stream",
          "name": "stdout",
          "text": [
            "1.1 2 3\n",
            "0\n",
            "3.0\n"
          ]
        }
      ]
    },
    {
      "cell_type": "markdown",
      "metadata": {
        "id": "qNGf7ydBTWtP"
      },
      "source": [
        "### **Linear Algebra**"
      ]
    },
    {
      "cell_type": "markdown",
      "metadata": {
        "id": "tTzYIef3SKc6"
      },
      "source": [
        "**TASK**\n",
        "\n",
        "You are given a square matrix A with dimensions NXN. Your task is to find the determinant. Note: Round the answer to 2 places after the decimal.\n",
        "\n",
        "Input Format\n",
        "\n",
        "The first line contains the integer N.\n",
        "The next N lines contains the N space separated elements of array A."
      ]
    },
    {
      "cell_type": "code",
      "metadata": {
        "colab": {
          "base_uri": "https://localhost:8080/"
        },
        "id": "CWkHIJjXTps3",
        "outputId": "49367748-184a-45d1-e30a-c5e4ee4ec21b"
      },
      "source": [
        "print(round(numpy.linalg.det(numpy.array([input().split() for _ in range(int(input()))],float)),2))"
      ],
      "execution_count": 50,
      "outputs": [
        {
          "output_type": "stream",
          "name": "stdout",
          "text": [
            "2\n",
            "1.1 1.1\n",
            "1.1 1.1\n",
            "0.0\n"
          ]
        }
      ]
    },
    {
      "cell_type": "code",
      "metadata": {
        "colab": {
          "base_uri": "https://localhost:8080/"
        },
        "id": "SC0OLhwlT_lh",
        "outputId": "89c41407-d081-467a-884b-c46ba23c412f"
      },
      "source": [
        "N=int(input())\n",
        "arr=numpy.array([input().split() for _ in range(N)],float)\n",
        "print(round(numpy.linalg.det(arr),2))"
      ],
      "execution_count": 52,
      "outputs": [
        {
          "output_type": "stream",
          "name": "stdout",
          "text": [
            "2\n",
            "1.1 1.1\n",
            "1.1 1.1\n",
            "0.0\n"
          ]
        }
      ]
    },
    {
      "cell_type": "code",
      "metadata": {
        "id": "DibG5jxmWHaR"
      },
      "source": [
        ""
      ],
      "execution_count": null,
      "outputs": []
    }
  ]
}