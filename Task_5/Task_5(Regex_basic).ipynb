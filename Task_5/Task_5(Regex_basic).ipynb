{
  "nbformat": 4,
  "nbformat_minor": 0,
  "metadata": {
    "colab": {
      "name": "Task_5(Regex_basic).ipynb",
      "provenance": [],
      "collapsed_sections": []
    },
    "kernelspec": {
      "name": "python3",
      "display_name": "Python 3"
    },
    "language_info": {
      "name": "python"
    }
  },
  "cells": [
    {
      "cell_type": "markdown",
      "metadata": {
        "id": "Kzqa7V6EyDfN"
      },
      "source": [
        "### **Detect Floating Point Number**"
      ]
    },
    {
      "cell_type": "markdown",
      "metadata": {
        "id": "G-9TB5bb9tBD"
      },
      "source": [
        "**TASK**\n",
        "\n",
        "You are given a string N.\n",
        "Your task is to verify that N is a floating point number.\n",
        "\n",
        "In this task, a valid float number must satisfy all of the following requirements:\n",
        "\n",
        " Number can start with +, - or . symbol.\n",
        "\n",
        " Number must contain at least 1 decimal value.\n",
        "\n",
        " Number must have exactly one . symbol.\n",
        "\n",
        " Number must not give any exceptions when converted using float(N)"
      ]
    },
    {
      "cell_type": "code",
      "metadata": {
        "id": "gh6WXDWu5tuU"
      },
      "source": [
        "import re                 \n",
        "T= int(input())         #no.of test cases\n",
        "for i in range(T):\n",
        "    st = input()      #entering the test cases\n",
        "    print (bool(re.match(r\"^[-+]?[0-9]*\\.[0-9]+$\",st)))       ##matching the given float condition"
      ],
      "execution_count": null,
      "outputs": []
    },
    {
      "cell_type": "markdown",
      "metadata": {
        "id": "ucj6v2Xb9_5H"
      },
      "source": [
        "### **Re.split()**"
      ]
    },
    {
      "cell_type": "markdown",
      "metadata": {
        "id": "dO24BozO-Ii2"
      },
      "source": [
        "**TASK**\n",
        "\n",
        "You are given a string s consisting only of digits 0-9, commas ,, and dots .\n",
        "\n",
        "Your task is to complete the regex_pattern defined below, which will be used to re.split() all of the , and . symbols in s.\n",
        "\n",
        "It’s guaranteed that every comma and every dot in s is preceeded and followed by a digit."
      ]
    },
    {
      "cell_type": "code",
      "metadata": {
        "colab": {
          "base_uri": "https://localhost:8080/"
        },
        "id": "_UD7jr96-HnF",
        "outputId": "1880a69c-204a-4b0a-a2f4-0dd295c129d7"
      },
      "source": [
        "import re\n",
        "regex_pattern = r\"[.,]\"\t# Do not delete 'r'.\n",
        "\n",
        "#import re\n",
        "print(\"\\n\".join(re.split(regex_pattern, input())))"
      ],
      "execution_count": null,
      "outputs": [
        {
          "output_type": "stream",
          "name": "stdout",
          "text": [
            "100,000,000.000\n",
            "100\n",
            "000\n",
            "000\n",
            "000\n"
          ]
        }
      ]
    },
    {
      "cell_type": "markdown",
      "metadata": {
        "id": "BZPHU4Ylul2E"
      },
      "source": [
        "### **Group(), Groups() & Groupdict()**"
      ]
    },
    {
      "cell_type": "markdown",
      "metadata": {
        "id": "UAS7dzyxutHk"
      },
      "source": [
        "**TASK**\n",
        "\n",
        "You are given a string S.\n",
        "Your task is to find the first occurrence of an alphanumeric character in S (read from left to right) that has consecutive repetitions."
      ]
    },
    {
      "cell_type": "code",
      "metadata": {
        "id": "oAPHI3z1_OeK",
        "colab": {
          "base_uri": "https://localhost:8080/"
        },
        "outputId": "2e80856d-e0a0-47eb-c671-aef7162c5d30"
      },
      "source": [
        "import re\n",
        "S = re.search(r'([a-zA-Z0-9])\\1+', input())   ### Alphanumeric means combination of alphabets and numericals so expression is wrtten for successive alphanumerics.\n",
        "if S is None:\n",
        "    print (-1)\n",
        "else:\n",
        "    print (S.group(1))"
      ],
      "execution_count": null,
      "outputs": [
        {
          "output_type": "stream",
          "name": "stdout",
          "text": [
            "..12345678910111213141516171820212223\n",
            "1\n"
          ]
        }
      ]
    },
    {
      "cell_type": "markdown",
      "metadata": {
        "id": "-uX4gEqz1qiR"
      },
      "source": [
        "### **Re.findall() & Re.finditer()**"
      ]
    },
    {
      "cell_type": "markdown",
      "metadata": {
        "id": "q3esT9ba1vN-"
      },
      "source": [
        "**TASK**\n",
        "\n",
        "You are given a string S. It consists of alphanumeric characters, spaces and symbols(+,-).\n",
        "Your task is to find all the substrings of S  that contains  2 or more vowels.\n",
        "Also, these substrings must lie in between 2 consonants and should contain vowels only.\n",
        "\n",
        "Note :\n",
        "Vowels are defined as: AEIOU and aeiou.\n",
        "Consonants are defined as: QWRTYPSDFGHJKLZXCVBNM and qwrtypsdfghjklzxcvbnm.\n",
        "\n"
      ]
    },
    {
      "cell_type": "code",
      "metadata": {
        "colab": {
          "base_uri": "https://localhost:8080/"
        },
        "id": "J79fqhUmzpSx",
        "outputId": "5d7b3d9b-774e-4d5e-bb99-eb5aecba6fb8"
      },
      "source": [
        "import re\n",
        "condition=r'(?<=[b-df-hj-np-tv-zB-DF-HJ-NP-TV-Z])([aeiouAEIOU]{2,})(?=[b-df-hj-np-tv-zB-DF-HJ-NP-TV-Z])'\n",
        "lis=re.findall(condition,input())\n",
        "if lis==[]:\n",
        "    print(-1)\n",
        "else:\n",
        "    for i in lis:\n",
        "        print(i)"
      ],
      "execution_count": null,
      "outputs": [
        {
          "output_type": "stream",
          "name": "stdout",
          "text": [
            "rabcdeefgyYhFjkIoomnpOeorteeeeet\n",
            "ee\n",
            "Ioo\n",
            "Oeo\n",
            "eeeee\n"
          ]
        }
      ]
    },
    {
      "cell_type": "markdown",
      "metadata": {
        "id": "kXVdTxFD9D5E"
      },
      "source": [
        "### **Re.start() & Re.end()**"
      ]
    },
    {
      "cell_type": "markdown",
      "metadata": {
        "id": "s_Eu5qSg9Gvo"
      },
      "source": [
        "**TASK**\n",
        "\n",
        "You are given a string S.\n",
        "Your task is to find the indices of the start and end of string k in S. "
      ]
    },
    {
      "cell_type": "code",
      "metadata": {
        "id": "O7GcJBVE67GQ",
        "colab": {
          "base_uri": "https://localhost:8080/"
        },
        "outputId": "d1774054-2bbe-4ddf-f62c-bf6c11bfa691"
      },
      "source": [
        "import re\n",
        "mainst,subst = [input() for _ in range(2)]\n",
        "m = re.search(subst, mainst)\n",
        "pattern = re.compile(subst)\n",
        "if not m: print(\"(-1, -1)\")\n",
        "while m:\n",
        "    print(\"({0}, {1})\".format(m.start(),m.end()-1))\n",
        "    m = pattern.search(mainst,m.start()+1)"
      ],
      "execution_count": null,
      "outputs": [
        {
          "output_type": "stream",
          "name": "stdout",
          "text": [
            "aaabaa\n",
            "aa\n",
            "(0, 1)\n",
            "(1, 2)\n",
            "(4, 5)\n"
          ]
        }
      ]
    },
    {
      "cell_type": "markdown",
      "metadata": {
        "id": "5iPvYoBtZPvS"
      },
      "source": [
        "### **Regex Substitution**"
      ]
    },
    {
      "cell_type": "markdown",
      "metadata": {
        "id": "Y3Na5gxhZPE4"
      },
      "source": [
        "**TASK**\n",
        "\n",
        "You are given a text of N lines. The text contains && and || symbols.\n",
        "Your task is to modify those symbols to the following:"
      ]
    },
    {
      "cell_type": "code",
      "metadata": {
        "id": "0ejLJ6JQbeQm"
      },
      "source": [
        "import re\n",
        "N = int(input())\n",
        "for i in range(0,N):\n",
        "   st = input()\n",
        "   st = re.sub(r\"\\ \\&\\&\\ \",\" and \",st)\n",
        "   st = re.sub(r\"\\ \\|\\|\\ \",\" or \",st)\n",
        "   st = re.sub(r\"\\ \\&\\&\\ \",\" and \",st)\n",
        "   st = re.sub(r\"\\ \\|\\|\\ \",\" or \",st)\n",
        "   print(st)"
      ],
      "execution_count": null,
      "outputs": []
    },
    {
      "cell_type": "markdown",
      "metadata": {
        "id": "wqOY3P7Tb-z4"
      },
      "source": [
        "### **Validating Roman Numerals**"
      ]
    },
    {
      "cell_type": "markdown",
      "metadata": {
        "id": "U5b9PqhzcEQB"
      },
      "source": [
        "**TASK**\n",
        "\n",
        "You are given a string, and you have to validate whether it's a valid Roman numeral. If it is valid, print True. Otherwise, print False. Try to create a regular expression for a valid Roman numeral.\n",
        "\n",
        "Input Format\n",
        "\n",
        "A single line of input containing a string of Roman characters.\n",
        "\n",
        "Output Format\n",
        "\n",
        "Output a single line containing True or False according to the instructions above."
      ]
    },
    {
      "cell_type": "code",
      "metadata": {
        "colab": {
          "base_uri": "https://localhost:8080/"
        },
        "id": "mfNfdqv_feqQ",
        "outputId": "faaa0617-a8f6-44a1-eb76-3176c9ef10c1"
      },
      "source": [
        "thou = 'M{0,3}'\n",
        "hund = '(C[MD]|D?C{0,3})'\n",
        "ten = '(X[CL]|L?X{0,3})'\n",
        "digit = '(I[VX]|V?I{0,3})'\n",
        "regex_pattern = r\"^\" + thou + hund + ten + digit + \"$\"\t  #Do not delete 'r'.\n",
        "\n",
        "import re\n",
        "print(str(bool(re.match(regex_pattern, input()))))"
      ],
      "execution_count": null,
      "outputs": [
        {
          "output_type": "stream",
          "name": "stdout",
          "text": [
            "CDXXI\n",
            "True\n"
          ]
        }
      ]
    },
    {
      "cell_type": "markdown",
      "metadata": {
        "id": "QSsUZ33jgg-J"
      },
      "source": [
        "### **Validating phone numbers**"
      ]
    },
    {
      "cell_type": "markdown",
      "metadata": {
        "id": "T6ZueHUagkV5"
      },
      "source": [
        "**TASK**\n",
        "\n",
        "Let's dive into the interesting topic of regular expressions! You are given some input, and you are required to check whether they are valid mobile numbers.\n",
        "\n",
        "A valid mobile number is a ten digit number starting with a 7,8 or 9."
      ]
    },
    {
      "cell_type": "code",
      "metadata": {
        "colab": {
          "base_uri": "https://localhost:8080/"
        },
        "id": "w4-Q7nKkjP_R",
        "outputId": "427fb930-7c4e-4fba-be6c-41d79c9b2281"
      },
      "source": [
        "import re\n",
        "cond=\"^[789][0-9]{9}$\" ### starting needs to be 7,8 and 9 rest 9 numbers are needed to get count of 10 digits.\n",
        "for i in range(int(input())):\n",
        "     if re.match(cond,input()):\n",
        "       print(\"YES\")\n",
        "     else: \n",
        "       print(\"NO\")"
      ],
      "execution_count": null,
      "outputs": [
        {
          "output_type": "stream",
          "name": "stdout",
          "text": [
            "2\n",
            "9657823476\n",
            "YES\n",
            "75841268\n",
            "NO\n"
          ]
        }
      ]
    },
    {
      "cell_type": "markdown",
      "metadata": {
        "id": "jeRoImxYj0rn"
      },
      "source": [
        "### **Validating and Parsing Email Addresses**"
      ]
    },
    {
      "cell_type": "markdown",
      "metadata": {
        "id": "TWhEJTDEkCqo"
      },
      "source": [
        "A valid email address meets the following criteria:\n",
        "\n",
        "It's composed of a username, domain name, and extension assembled in this format: username@domain.extension\n",
        "The username starts with an English alphabetical character, and any subsequent characters consist of one or more of the following: alphanumeric characters, -,., and _.\n",
        "The domain and extension contain only English alphabetical characters.\n",
        "The extension is ,1 ,2 or 3 characters in length.\n",
        "Given n pairs of names and email addresses as input, print each name and email address pair having a valid email address on a new line."
      ]
    },
    {
      "cell_type": "code",
      "metadata": {
        "colab": {
          "base_uri": "https://localhost:8080/"
        },
        "id": "md71_jX4kJ1W",
        "outputId": "7f4bfe57-dbbd-4521-8e6b-d1f3130d4198"
      },
      "source": [
        "import re\n",
        "n=int(input())\n",
        "\n",
        "regexpatt=r\"<[a-z]+[\\w\\-.]*@[a-z]+\\.[a-z]{1,3}>\"\n",
        "for i in range(0,n):\n",
        "  x, y = input().split(' ')\n",
        "  fin=re.match(regexpatt,y)\n",
        "  if fin:\n",
        "    print(x,y)\n",
        "    "
      ],
      "execution_count": null,
      "outputs": [
        {
          "output_type": "stream",
          "name": "stdout",
          "text": [
            "2\n",
            "VIRUS <virus!@variable.:p>\n",
            "DEXTER <dexter@hotmail.com>\n",
            "DEXTER <dexter@hotmail.com>\n"
          ]
        }
      ]
    },
    {
      "cell_type": "markdown",
      "metadata": {
        "id": "DDwunnH3nMXu"
      },
      "source": [
        "### **Hex Color Code**"
      ]
    },
    {
      "cell_type": "markdown",
      "metadata": {
        "id": "Jnyq0AfynSOx"
      },
      "source": [
        "**TASK**\n",
        "\n",
        "the first line contains N, the number of code lines.\n",
        "The next N lines contains CSS Codes.\n",
        "\n",
        "\n",
        "Output Format\n",
        "\n",
        "Output the color codes with '#' symbols on separate lines."
      ]
    },
    {
      "cell_type": "code",
      "metadata": {
        "id": "_gRqme-Hqt88"
      },
      "source": [
        "import re\n",
        "for _ in range(int(input())):\n",
        "    pattern = re.findall(r'(?<!^)(#[0-9a-f]{6}|#[0-9a-f]{3})',input(),re.I)\n",
        "    \n",
        "    for i in pattern:\n",
        "        print(i)"
      ],
      "execution_count": null,
      "outputs": []
    },
    {
      "cell_type": "markdown",
      "metadata": {
        "id": "tivYQzTCt7Ug"
      },
      "source": [
        "### **HTML Parser - Part 1**"
      ]
    },
    {
      "cell_type": "code",
      "metadata": {
        "colab": {
          "base_uri": "https://localhost:8080/"
        },
        "id": "E6IZNQgrt9Oi",
        "outputId": "d7704d59-72bb-41c9-fd46-b95fa6f640b9"
      },
      "source": [
        "from html.parser import HTMLParser\n",
        "\n",
        "class MyHTMLParser(HTMLParser):\n",
        "    def _handler_factory(msg):\n",
        "        msg = msg.ljust(6) + ':'\n",
        "        def handler(self, tag, attrs=[]):\n",
        "            print(msg, tag)\n",
        "            for a in attrs:\n",
        "                print(\"-> %s > %s\" % a)\n",
        "        return handler\n",
        "\n",
        "    locals().update(zip(\n",
        "        map(\"handle_{}tag\".format, (\"start\", \"end\", \"startend\")),\n",
        "        map(_handler_factory, (\"Start\", \"End\", \"Empty\"))\n",
        "    ))\n",
        "\n",
        "MyHTMLParser().feed(' '.join(input() for _ in range(int(input()))))\n",
        "\n"
      ],
      "execution_count": null,
      "outputs": [
        {
          "output_type": "stream",
          "name": "stdout",
          "text": [
            "2\n",
            "<html><head><title>HTML Parser - I</title></head>\n",
            "<body data-modal-target class='1'><h1>HackerRank</h1><br /></body></html>\n",
            "Start : html\n",
            "Start : head\n",
            "Start : title\n",
            "End   : title\n",
            "End   : head\n",
            "Start : body\n",
            "-> data-modal-target > None\n",
            "-> class > 1\n",
            "Start : h1\n",
            "End   : h1\n",
            "Empty : br\n",
            "End   : body\n",
            "End   : html\n"
          ]
        }
      ]
    },
    {
      "cell_type": "markdown",
      "metadata": {
        "id": "52qVpkL2w8vJ"
      },
      "source": [
        "### **HTML Parser - Part 2**"
      ]
    },
    {
      "cell_type": "markdown",
      "metadata": {
        "id": "RZ9__USNwzkN"
      },
      "source": [
        "**TASK**\n",
        "\n",
        "You are given an HTML code snippet of N lines.\n",
        "Your task is to print the single-line comments, multi-line comments and the data.\n",
        "\n",
        "Print the result in the following format:\n",
        "\n",
        ">>> Single-line Comment  \n",
        "Comment\n",
        ">>> Data                 \n",
        "My Data\n",
        ">>> Multi-line Comment  \n",
        "Comment_multiline[0]\n",
        "Comment_multiline[1]\n",
        ">>> Data\n",
        "My Data\n",
        ">>> Single-line Comment:  "
      ]
    },
    {
      "cell_type": "code",
      "metadata": {
        "colab": {
          "base_uri": "https://localhost:8080/"
        },
        "id": "WPIl2P1Jx_lf",
        "outputId": "ffd6ba8e-c1c9-4d57-f846-e4109ff7587f"
      },
      "source": [
        "\n",
        "from html.parser import HTMLParser\n",
        "\n",
        "class MyHTMLParser(HTMLParser):\n",
        "  def handle_comment(self, value):\n",
        "    if '\\n' in value:\n",
        "        print('>>> Multi-line Comment')\n",
        "        print(value)\n",
        "    else:\n",
        "        print('>>> Single-line Comment')\n",
        "        print(value)\n",
        "\n",
        "  def handle_data(self, value):\n",
        "    if '\\n' not in value:\n",
        "        print(\">>> Data\")\n",
        "        print(value)\n",
        "  \n",
        "link = ''       \n",
        "for i in range(int(input())):\n",
        "    link += input().rstrip()\n",
        "    link += '\\n'\n",
        "\n",
        "parser = MyHTMLParser()\n",
        "parser.feed(link)\n",
        "parser.close()"
      ],
      "execution_count": null,
      "outputs": [
        {
          "output_type": "stream",
          "name": "stdout",
          "text": [
            "1\n",
            "<!--[if IE 9]>IE9-specific content<![endif]-->\n",
            ">>> Single-line Comment\n",
            "[if IE 9]>IE9-specific content<![endif]\n"
          ]
        }
      ]
    },
    {
      "cell_type": "markdown",
      "metadata": {
        "id": "KX2kUq8t0hP3"
      },
      "source": [
        "### **Detect HTML Tags, Attributes and Attribute Values**\n",
        "\n"
      ]
    },
    {
      "cell_type": "markdown",
      "metadata": {
        "id": "aFbfkut11PVQ"
      },
      "source": [
        "**TASK**\n",
        "\n",
        "You are given an HTML code snippet of N lines.\n",
        "Your task is to detect and print all the HTML tags, attributes and attribute values.\n",
        "\n",
        "Print the detected items in the following format:\n",
        "\n",
        "Tag1\n",
        "Tag2\n",
        "-> Attribute2[0] > Attribute_value2[0]\n",
        "-> Attribute2[1] > Attribute_value2[1]\n",
        "-> Attribute2[2] > Attribute_value2[2]\n",
        "Tag3\n",
        "-> Attribute3[0] > Attribute_value3[0"
      ]
    },
    {
      "cell_type": "code",
      "metadata": {
        "colab": {
          "base_uri": "https://localhost:8080/"
        },
        "id": "pn1vNGcz1UtY",
        "outputId": "c2178728-74ab-48ac-e854-f7fbcf33a4f3"
      },
      "source": [
        "from html.parser import HTMLParser\n",
        "\n",
        "class MyHTMLParser(HTMLParser):\n",
        "    def handle_starttag(self, tag, attrs):\n",
        "        print(tag)\n",
        "        for i in attrs:\n",
        "            print(\"->\", i[0], \">\", i[1])\n",
        "link = MyHTMLParser()\n",
        "\n",
        "for _ in range(int(input())):\n",
        "    link.feed(input())"
      ],
      "execution_count": null,
      "outputs": [
        {
          "output_type": "stream",
          "name": "stdout",
          "text": [
            "9\n",
            "<head>\n",
            "head\n",
            "<title>HTML</title>\n",
            "title\n",
            "</head>\n",
            "<object type=\"application/x-flash\"    data=\"your-file.swf\"    width=\"0\" height=\"0\">\n",
            "object\n",
            "-> type > application/x-flash\n",
            "-> data > your-file.swf\n",
            "-> width > 0\n",
            "-> height > 0\n",
            "<!-- <param name=\"movie\" value=\"your-file.swf\" /> -->\n",
            "<param name=\"quality\" value=\"high\"/>\n",
            "param\n",
            "-> name > quality\n",
            "-> value > high\n",
            "</object>\n",
            "</head>\n",
            "<param name=\"quality\" value=\"high\"/>\n",
            "param\n",
            "-> name > quality\n",
            "-> value > high\n"
          ]
        }
      ]
    },
    {
      "cell_type": "markdown",
      "metadata": {
        "id": "nG4yJAkn2pbi"
      },
      "source": [
        "### **Validating UID**"
      ]
    },
    {
      "cell_type": "markdown",
      "metadata": {
        "id": "aZB4ebi63ItQ"
      },
      "source": [
        "**TASK**\n",
        "\n",
        "ABCXYZ company has up to 100 employees.\n",
        "The company decides to create a unique identification number (UID) for each of its employees.\n",
        "The company has assigned you the task of validating all the randomly generated UIDs.\n",
        "\n",
        "A valid UID must follow the rules below:\n",
        "\n",
        "It must contain at least 2 uppercase English alphabet characters.\n",
        "It must contain at least 3 digits ( 0-9 ).\n",
        "It should only contain alphanumeric characters (a -z , A -Z  & 0 -9 ).\n",
        "No character should repeat.\n",
        "There must be exactly 10 characters in a valid UID."
      ]
    },
    {
      "cell_type": "code",
      "metadata": {
        "colab": {
          "base_uri": "https://localhost:8080/"
        },
        "id": "idnN6mFV3aMX",
        "outputId": "19e72c3c-2c68-4ca6-e772-6fffe84d16d0"
      },
      "source": [
        "import re\n",
        "no_char_repeat = r\"(?!.*(.).*\\1)\"\n",
        "upper_char= r\"(?=(?:.*[A-Z]){2,})\"\n",
        "three_or_more_digits = r\"(?=(?:.*\\d){3,})\"\n",
        "total_chara = r\"[a-zA-Z0-9]{10}\"\n",
        "rules = no_char_repeat,upper_char, three_or_more_digits, total_chara\n",
        "\n",
        "for uid in [input() for _ in range(int(input()))]:\n",
        "    if all([re.match(f, uid) for f in rules]):\n",
        "        print(\"Valid\")\n",
        "    else:\n",
        "        print(\"Invalid\")"
      ],
      "execution_count": null,
      "outputs": [
        {
          "output_type": "stream",
          "name": "stdout",
          "text": [
            "2\n",
            "B1CD102354\n",
            "B1CDEF2354\n",
            "Invalid\n",
            "Valid\n"
          ]
        }
      ]
    },
    {
      "cell_type": "markdown",
      "metadata": {
        "id": "Skms7eLu7VQR"
      },
      "source": [
        "### **Validating Credit Card Numbers**"
      ]
    },
    {
      "cell_type": "markdown",
      "metadata": {
        "id": "8wugN5FQ6Ck6"
      },
      "source": [
        "**TASK**\n",
        "\n",
        "You and Fredrick are good friends. Yesterday, Fredrick received N credit cards from ABCD Bank. He wants to verify whether his credit card numbers are valid or not. You happen to be great at regex so he is asking for your help!\n",
        "\n",
        "A valid credit card from ABCD Bank has the following characteristics:\n",
        "\n",
        "► It must start with a 4,5  or 6.\n",
        "► It must contain exactly 16 digits.\n",
        "► It must only consist of digits (0-9).\n",
        "► It may have digits in groups of ,4 separated by one hyphen \"-\".\n",
        "► It must NOT use any other separator like ' ' , '_', etc.\n",
        "► It must NOT have 4 or more consecutive repeated digits.\n"
      ]
    },
    {
      "cell_type": "code",
      "metadata": {
        "id": "o1VPizZp84JG"
      },
      "source": [
        "import re\n",
        "\n",
        "p1 = r'^([456]\\d{3})(\\-?)(\\d{4})(\\2)(\\d{4})(\\2)(\\d{4})$'\n",
        "p2 = r'^(?:([0-9])(?!\\1{3,})){16}$'\n",
        "\n",
        "for _ in range(input()):\n",
        "    s = raw_input()\n",
        "    if re.match(p1, s):\n",
        "        s = s.replace('-', '')\n",
        "        if re.match(p2, s):\n",
        "            print 'Valid'\n",
        "        else:\n",
        "            print 'Invalid'\n",
        "    else:\n",
        "        print 'Invalid'"
      ],
      "execution_count": null,
      "outputs": []
    },
    {
      "cell_type": "code",
      "metadata": {
        "colab": {
          "base_uri": "https://localhost:8080/"
        },
        "id": "1p553Rr89SHb",
        "outputId": "53f1eb1a-22d4-4c3a-a9d6-4337147abfc9"
      },
      "source": [
        "n=int(input())\n",
        "credit_cards=[(input())  for _ in range(n)]\n",
        "pattern1 = r\"[456]\\d{3}(-?\\d{4}){3}$\"\n",
        "pattern2 = r\"((\\d)-?(?!(-?\\2){3})){16}\"\n",
        "rules = pattern1, pattern2\n",
        "for cc in credit_cards:\n",
        "  if all(re.match(f, cc) for f in rules):\n",
        "    print(\"Valid\")\n",
        "  else:\n",
        "    print(\"Invalid\")"
      ],
      "execution_count": null,
      "outputs": [
        {
          "output_type": "stream",
          "name": "stdout",
          "text": [
            "6\n",
            "4123456789123456\n",
            "5123-4567-8912-3456\n",
            "61234-567-8912-3456\n",
            "4123356789123456\n",
            "5133-3367-8912-3456\n",
            "5123 - 3567 - 8912 - 3456\n",
            "Valid\n",
            "Valid\n",
            "Invalid\n",
            "Valid\n",
            "Invalid\n",
            "Invalid\n"
          ]
        }
      ]
    },
    {
      "cell_type": "markdown",
      "metadata": {
        "id": "X8avPM367D1z"
      },
      "source": [
        "### **Validating Postal Codes**"
      ]
    },
    {
      "cell_type": "markdown",
      "metadata": {
        "id": "MUcYOqMW7Is6"
      },
      "source": [
        "**TASK**\n",
        "\n",
        "A valid postal code P have to fullfil both below requirements:\n",
        "\n",
        "P must be a number in the range from 100000 to 999999 inclusive.\n",
        "P must not contain more than one alternating repetitive digit pair.\n",
        "Alternating repetitive digits are digits which repeat immediately after the next digit. In other words, an alternating repetitive digit pair is formed by two equal digits that have just a single digit between them.\n",
        "\n",
        "Your task is to provide two regular expressions regex_integer_in_range and regex_alternating_repetitive_digit_pair. Where:\n",
        "\n",
        "regex_integer_in_range should match only integers range from  100000 to 999999 inclusive\n",
        "\n",
        "regex_alternating_repetitive_digit_pair should find alternating repetitive digits pairs in a given string.\n",
        "\n",
        "Both these regular expressions will be used by the provided code template to check if the input string  is a valid postal code \n",
        "\n"
      ]
    },
    {
      "cell_type": "code",
      "metadata": {
        "id": "yC8uSY2P7HQi"
      },
      "source": [
        "regex_integer_in_range = r\"^[1-9][0-9]{5}$\"\t# Do not delete 'r'.\n",
        "regex_alternating_repetitive_digit_pair =r\"(\\d)(?=.\\1)\"\t# Do not delete 'r'.\n",
        "import re\n",
        "P = input()\n",
        "print (bool(re.match(regex_integer_in_range, P)) \n",
        "and len(re.findall(regex_alternating_repetitive_digit_pair, P)) < 2)"
      ],
      "execution_count": null,
      "outputs": []
    },
    {
      "cell_type": "markdown",
      "metadata": {
        "id": "Vi5tEx_-9jqw"
      },
      "source": [
        "### **Matrix Script**\n"
      ]
    },
    {
      "cell_type": "markdown",
      "metadata": {
        "id": "sBWpzYaG9l6H"
      },
      "source": [
        "**TASK**\n",
        "\n",
        "The first line contains space-separated integers N (rows) and M (columns) respectively.\n",
        "The next N lines contain the row elements of the matrix script.\n",
        "\n"
      ]
    },
    {
      "cell_type": "code",
      "metadata": {
        "id": "xKJbDo0dGZNw"
      },
      "source": [
        "import re\n",
        "x,y = list(map(int,input().split()))\n",
        "rows =[input() for i in range(x)]\n",
        "script = \"\".join([row[i] for i in range(y) for row in rows])\n",
        "script = re.sub('([A-Za-z1-9])[^A-Za-z1-9]+([A-Za-z1-9])', r'\\1 \\2', script)\n",
        "script = re.sub('  ', ' ', script)\n",
        "print(script)"
      ],
      "execution_count": null,
      "outputs": []
    }
  ]
}