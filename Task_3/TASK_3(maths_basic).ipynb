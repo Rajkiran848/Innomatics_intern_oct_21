{
  "nbformat": 4,
  "nbformat_minor": 0,
  "metadata": {
    "colab": {
      "name": "TASK3_maths.ipynb",
      "provenance": [],
      "collapsed_sections": []
    },
    "kernelspec": {
      "name": "python3",
      "display_name": "Python 3"
    },
    "language_info": {
      "name": "python"
    }
  },
  "cells": [
    {
      "cell_type": "markdown",
      "metadata": {
        "id": "ot0HAs-ZjJAB"
      },
      "source": [
        "### **Polar Coordinates**"
      ]
    },
    {
      "cell_type": "markdown",
      "metadata": {
        "id": "TkqQGomrkW4_"
      },
      "source": [
        "**TASK**\n",
        "\n",
        "You are given a complex z. Your task is to convert it to polar coordinates."
      ]
    },
    {
      "cell_type": "code",
      "metadata": {
        "colab": {
          "base_uri": "https://localhost:8080/"
        },
        "id": "z6TMyuyNrLQV",
        "outputId": "1f0060eb-951c-4a9f-d0f2-7aa6e05d6cd1"
      },
      "source": [
        "import cmath\n",
        "z=complex(input())\n",
        "print ('{0:.3f}'.format(cmath.polar(z)[0]))\n",
        "print ('{0:.3f}'.format(cmath.polar(z)[1])) # for printing upto 3 decimals"
      ],
      "execution_count": null,
      "outputs": [
        {
          "output_type": "stream",
          "name": "stdout",
          "text": [
            "1+2j\n",
            "2.236\n",
            "1.107\n"
          ]
        }
      ]
    },
    {
      "cell_type": "markdown",
      "metadata": {
        "id": "gNIttRbqxXYs"
      },
      "source": [
        "### **FIND ANGLE MBC**"
      ]
    },
    {
      "cell_type": "markdown",
      "metadata": {
        "id": "QYA0TRnFxdUw"
      },
      "source": [
        "**TASK**\n",
        "\n",
        "ABC is a right triangle,90°  at B.\n",
        "Therefore,angle(ABC)=90° .\n",
        "\n",
        "Point M is the midpoint of hypotenuse AC.\n",
        "\n",
        "You are given the lengths AB and BC.\n",
        "Your task is to find  (angle(MBC) , as shown in the figure) in degrees."
      ]
    },
    {
      "cell_type": "code",
      "metadata": {
        "colab": {
          "base_uri": "https://localhost:8080/"
        },
        "id": "zO_3KNYorQsV",
        "outputId": "52aede5f-c765-43aa-b488-fbe3a85d6e1d"
      },
      "source": [
        "import math\n",
        "AB,BC=int(input()),int(input())\n",
        "hypo=math.hypot(AB,BC)                      #for calculating hypotenuse\n",
        "res=round(math.degrees(math.acos(BC/hypo))) #for calculating angle \n",
        "deg=chr(176)                                #for DEGREE symbol\n",
        "print(res,deg, sep='')"
      ],
      "execution_count": null,
      "outputs": [
        {
          "output_type": "stream",
          "name": "stdout",
          "text": [
            "10\n",
            "10\n",
            "45°\n"
          ]
        }
      ]
    },
    {
      "cell_type": "markdown",
      "metadata": {
        "id": "9I8OSfhLykYy"
      },
      "source": [
        "### **Triangle Quest 2**"
      ]
    },
    {
      "cell_type": "markdown",
      "metadata": {
        "id": "u7ushuSpyo_u"
      },
      "source": [
        "**TASk**\n",
        "\n",
        "You are given a positive integer N.\n",
        "Your task is to print a palindromic triangle of size N."
      ]
    },
    {
      "cell_type": "code",
      "metadata": {
        "colab": {
          "base_uri": "https://localhost:8080/"
        },
        "id": "3JMds4bYyn8T",
        "outputId": "fd37e0e4-7432-4eeb-e069-3aa12c04f05c"
      },
      "source": [
        "for i in range(1,int(input())+1):\n",
        "  print((10**i//9)**2)                    #1*1=1\n",
        "\n",
        "                                          #11*11=121\n",
        "\n",
        "                                          #111*111=12321"
      ],
      "execution_count": null,
      "outputs": [
        {
          "output_type": "stream",
          "name": "stdout",
          "text": [
            "5\n",
            "1\n",
            "121\n",
            "12321\n",
            "1234321\n",
            "123454321\n"
          ]
        }
      ]
    },
    {
      "cell_type": "markdown",
      "metadata": {
        "id": "pWe1kF4U1P2a"
      },
      "source": [
        "### **Mod Divmod**"
      ]
    },
    {
      "cell_type": "markdown",
      "metadata": {
        "id": "H3xX98101SZV"
      },
      "source": [
        "**TASK**\n",
        "\n",
        "Read in two integers, a and b, and print three lines.\n",
        "The first line is the integer division a//b (While using Python2 remember to import division from __future__).\n",
        "The second line is the result of the modulo operator: a%b.\n",
        "The third line prints the divmod of a and b."
      ]
    },
    {
      "cell_type": "code",
      "metadata": {
        "colab": {
          "base_uri": "https://localhost:8080/"
        },
        "id": "ZfFpHLYzwgXC",
        "outputId": "4e6382ff-5584-4581-ea64-46c6d01c8771"
      },
      "source": [
        "a= int(input())\n",
        "b= int(input())\n",
        "print(a//b)\n",
        "print(a%b)\n",
        "print(divmod(a,b))"
      ],
      "execution_count": null,
      "outputs": [
        {
          "output_type": "stream",
          "name": "stdout",
          "text": [
            "177\n",
            "10\n",
            "17\n",
            "7\n",
            "(17, 7)\n"
          ]
        }
      ]
    },
    {
      "cell_type": "markdown",
      "metadata": {
        "id": "e5q5tnDM3cms"
      },
      "source": [
        "### **Power - Mod Power**"
      ]
    },
    {
      "cell_type": "markdown",
      "metadata": {
        "id": "EJDXBA8y17hM"
      },
      "source": [
        "**TASK**\n",
        "\n",
        "You are given three integers: a,b ,m and . Print two lines.\n",
        "On the first line, print the result of pow(a,b). On the second line, print the result of pow(a,b,m)."
      ]
    },
    {
      "cell_type": "code",
      "metadata": {
        "colab": {
          "base_uri": "https://localhost:8080/"
        },
        "id": "y5S5wPN_3n3H",
        "outputId": "230077a3-aa5d-4be8-e02f-267f9f77fc7a"
      },
      "source": [
        "a,b,m=[int(input()) for _ in range(3) ]\n",
        "print(pow(a,b),pow(a,b,m),sep=\"\\n\")"
      ],
      "execution_count": null,
      "outputs": [
        {
          "output_type": "stream",
          "name": "stdout",
          "text": [
            "3\n",
            "4\n",
            "5\n",
            "81\n",
            "1\n"
          ]
        }
      ]
    },
    {
      "cell_type": "markdown",
      "metadata": {
        "id": "GiFvjkfi4hAR"
      },
      "source": [
        "### **Integers Come In All Sizes**"
      ]
    },
    {
      "cell_type": "markdown",
      "metadata": {
        "id": "CHiebQ_L4kTi"
      },
      "source": [
        "**TASK**\n",
        "\n",
        "Read four numbers a,b ,c and d, and print the result of a^b + c^d ."
      ]
    },
    {
      "cell_type": "code",
      "metadata": {
        "colab": {
          "base_uri": "https://localhost:8080/"
        },
        "id": "PyDZkrJ14S4D",
        "outputId": "292d4a75-73af-4146-ac10-60572c651988"
      },
      "source": [
        "a,b,c,d= [int(input()) for _ in range(4) ]\n",
        "print(pow(a,b)+pow(c,d))"
      ],
      "execution_count": null,
      "outputs": [
        {
          "output_type": "stream",
          "name": "stdout",
          "text": [
            "9\n",
            "29\n",
            "7\n",
            "27\n",
            "4710194409608608369201743232\n"
          ]
        }
      ]
    },
    {
      "cell_type": "markdown",
      "metadata": {
        "id": "Tz9U2nru5Szp"
      },
      "source": [
        "### **Triangle Quest**"
      ]
    },
    {
      "cell_type": "markdown",
      "metadata": {
        "id": "woDfHSbU5FUh"
      },
      "source": [
        "**TASK**\n",
        "\n",
        "You are given a positive integer N. Print a numerical triangle of height N-1 like the one below:\n",
        "1\n",
        "22\n",
        "333\n",
        "4444\n",
        "55555\n",
        "......\n"
      ]
    },
    {
      "cell_type": "code",
      "metadata": {
        "colab": {
          "base_uri": "https://localhost:8080/"
        },
        "id": "VRmjFumB6Pxc",
        "outputId": "d57ab12a-c841-4926-9c0a-9e5b3ed8a1ac"
      },
      "source": [
        "for i in range(1,int(input())):\n",
        "    print(i * (10**i - 1)//9)"
      ],
      "execution_count": null,
      "outputs": [
        {
          "output_type": "stream",
          "name": "stdout",
          "text": [
            "5\n",
            "1\n",
            "22\n",
            "333\n",
            "4444\n"
          ]
        }
      ]
    },
    {
      "cell_type": "code",
      "metadata": {
        "id": "l_xLkvjs6ojE"
      },
      "source": [
        ""
      ],
      "execution_count": null,
      "outputs": []
    }
  ]
}