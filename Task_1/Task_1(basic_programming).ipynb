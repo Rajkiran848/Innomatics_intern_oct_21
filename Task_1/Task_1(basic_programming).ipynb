{
  "nbformat": 4,
  "nbformat_minor": 0,
  "metadata": {
    "colab": {
      "name": "Task1.ipynb",
      "provenance": [],
      "collapsed_sections": []
    },
    "kernelspec": {
      "name": "python3",
      "display_name": "Python 3"
    },
    "language_info": {
      "name": "python"
    }
  },
  "cells": [
    {
      "cell_type": "markdown",
      "metadata": {
        "id": "rjkO0EhwLx8T"
      },
      "source": [
        "### print hello world---1st code"
      ]
    },
    {
      "cell_type": "code",
      "metadata": {
        "id": "ZttY1xVOMhv2",
        "colab": {
          "base_uri": "https://localhost:8080/"
        },
        "outputId": "f1aeb3dc-60a8-4e45-8f1d-874cc855731d"
      },
      "source": [
        "print(\"Hello, World!\")"
      ],
      "execution_count": 3,
      "outputs": [
        {
          "output_type": "stream",
          "name": "stdout",
          "text": [
            "Hello, World!\n"
          ]
        }
      ]
    },
    {
      "cell_type": "markdown",
      "metadata": {
        "id": "jyuBk0-GM5c7"
      },
      "source": [
        "### If-Else statement--2nd code"
      ]
    },
    {
      "cell_type": "markdown",
      "metadata": {
        "id": "X2ou-zmMNHMk"
      },
      "source": [
        "Task\n",
        "Given an integer,n , perform the following conditional actions:\n",
        "\n",
        "If n is odd, print Weird\n",
        "If n is even and in the inclusive range of 2 to 5, print Not Weird\n",
        "If n is even and in the inclusive range of 6 to 20, print Weird\n",
        "If n is even and greater than , print Not Weird"
      ]
    },
    {
      "cell_type": "code",
      "metadata": {
        "colab": {
          "base_uri": "https://localhost:8080/"
        },
        "id": "eNKhVsujNq3g",
        "outputId": "2555d4fe-0a06-4ead-9e22-9b8e26a064d5"
      },
      "source": [
        "n= int(input())\n",
        "\n",
        "if n%2!=0:\n",
        "    print(\"Weird\")\n",
        "else :\n",
        "    if n>=2 and n<=5:\n",
        "        print(\"Not Weird\")\n",
        "    if n>=6 and n<=20:\n",
        "        print(\"Weird\")\n",
        "    if n>20:\n",
        "        print(\"Not Weird\")\n",
        " \n"
      ],
      "execution_count": 4,
      "outputs": [
        {
          "output_type": "stream",
          "name": "stdout",
          "text": [
            "20\n",
            "Weird\n"
          ]
        }
      ]
    },
    {
      "cell_type": "markdown",
      "metadata": {
        "id": "GDqLnv-WNta_"
      },
      "source": [
        "###Arthimetic operators--3rd code"
      ]
    },
    {
      "cell_type": "markdown",
      "metadata": {
        "id": "nxvuUkbdN6sg"
      },
      "source": [
        "Task\n",
        "\n",
        "The provided code stub reads two integers from STDIN, a and b. Add code to print three lines where:\n",
        "\n",
        "The first line contains the sum of the two numbers.\n",
        "The second line contains the difference of the two numbers (first - second).\n",
        "The third line contains the product of the two numbers."
      ]
    },
    {
      "cell_type": "code",
      "metadata": {
        "colab": {
          "base_uri": "https://localhost:8080/"
        },
        "id": "qVpAQH-AOClU",
        "outputId": "a1e87381-f89b-4d74-f670-7bb51aea7744"
      },
      "source": [
        "    a = int(input())\n",
        "    b = int(input())\n",
        "    print(a + b)\n",
        "    print(a - b)\n",
        "    print(a * b)\n",
        "    "
      ],
      "execution_count": 5,
      "outputs": [
        {
          "output_type": "stream",
          "name": "stdout",
          "text": [
            "5\n",
            "6\n",
            "11\n",
            "-1\n",
            "30\n"
          ]
        }
      ]
    },
    {
      "cell_type": "markdown",
      "metadata": {
        "id": "bO15GyPKOGWu"
      },
      "source": [
        "### Division--4th code"
      ]
    },
    {
      "cell_type": "markdown",
      "metadata": {
        "id": "LyMK2fY7OdQc"
      },
      "source": [
        "Task\n",
        "\n",
        "The provided code stub reads two integers, a and b, from STDIN.\n",
        "\n",
        "Add logic to print two lines. The first line should contain the result of integer division, a //b . The second line should contain the result of float division,  a/b .\n",
        "\n"
      ]
    },
    {
      "cell_type": "code",
      "metadata": {
        "colab": {
          "base_uri": "https://localhost:8080/"
        },
        "id": "zF4c2u5gOrR8",
        "outputId": "7d0542a1-4444-4bd6-e341-cddd05b2f843"
      },
      "source": [
        "    a = int(input())\n",
        "    b = int(input())\n",
        "    print(a//b)\n",
        "    print(a/b)\n"
      ],
      "execution_count": 6,
      "outputs": [
        {
          "output_type": "stream",
          "name": "stdout",
          "text": [
            "10\n",
            "2\n",
            "5\n",
            "5.0\n"
          ]
        }
      ]
    },
    {
      "cell_type": "markdown",
      "metadata": {
        "id": "Oei72mXuOuhw"
      },
      "source": [
        "### Loops---5th code"
      ]
    },
    {
      "cell_type": "markdown",
      "metadata": {
        "id": "R2Ye-jNPO7He"
      },
      "source": [
        "Task\n",
        "\n",
        "The provided code stub reads and integer,n , from STDIN. For all non-negative integers i<n, print i^2 ."
      ]
    },
    {
      "cell_type": "code",
      "metadata": {
        "colab": {
          "base_uri": "https://localhost:8080/"
        },
        "id": "H61r2FQbPKM-",
        "outputId": "f03c601b-ba47-4c2a-e624-374a1b6fcfa9"
      },
      "source": [
        " n = int(input())\n",
        " for i in range(n):\n",
        "   print(i**2)"
      ],
      "execution_count": 8,
      "outputs": [
        {
          "output_type": "stream",
          "name": "stdout",
          "text": [
            "5\n",
            "0\n",
            "1\n",
            "4\n",
            "9\n",
            "16\n"
          ]
        }
      ]
    },
    {
      "cell_type": "markdown",
      "metadata": {
        "id": "oKjS_RphPWQ7"
      },
      "source": [
        "### Function---6th code"
      ]
    },
    {
      "cell_type": "markdown",
      "metadata": {
        "id": "RoqjPR6OPjxN"
      },
      "source": [
        "Task\n",
        "\n",
        "Given a year, determine whether it is a leap year. If it is a leap year, return the Boolean True, otherwise return False.\n",
        "\n",
        "Note that the code stub provided reads from STDIN and passes arguments to the is_leap function. It is only necessary to complete the is_leap function.\n",
        "\n",
        "Input Format\n",
        "\n",
        "Read year, the year to test."
      ]
    },
    {
      "cell_type": "code",
      "metadata": {
        "colab": {
          "base_uri": "https://localhost:8080/"
        },
        "id": "euOI1ebVP3Dv",
        "outputId": "80362f9d-3e82-4898-b9ab-30dd5dcc9b1c"
      },
      "source": [
        "def is_leap(year):\n",
        "    leap = False\n",
        "    if year%4 == 0:\n",
        "        if year%100 == 0:\n",
        "            if year%400 == 0:\n",
        "                leap = True\n",
        "            else:\n",
        "                leap = False\n",
        "        else:\n",
        "            leap = True\n",
        "    else:\n",
        "        leap = False\n",
        "    \n",
        "    return leap  \n",
        "\n",
        "year = int(input())\n",
        "print(is_leap(year))"
      ],
      "execution_count": 20,
      "outputs": [
        {
          "output_type": "stream",
          "name": "stdout",
          "text": [
            "2016\n",
            "True\n"
          ]
        }
      ]
    },
    {
      "cell_type": "markdown",
      "metadata": {
        "id": "esMUYHNZQzHp"
      },
      "source": [
        "### print funtion---7th code"
      ]
    },
    {
      "cell_type": "markdown",
      "metadata": {
        "id": "YHDxtoIZR7In"
      },
      "source": [
        "Task\n",
        "\n",
        "The included code stub will read an integer,n , from STDIN.\n",
        "\n",
        "Without using any string methods, try to print the following:\n",
        "1,2,3...n"
      ]
    },
    {
      "cell_type": "code",
      "metadata": {
        "colab": {
          "base_uri": "https://localhost:8080/"
        },
        "id": "cmgVBVbBSFHX",
        "outputId": "1d1c85fc-6dee-441c-cb02-fa0d680edae1"
      },
      "source": [
        "n = int(input())\n",
        "for i in range(1,n+1):\n",
        "  print(i,end=\"\")"
      ],
      "execution_count": 22,
      "outputs": [
        {
          "output_type": "stream",
          "name": "stdout",
          "text": [
            "5\n",
            "12345"
          ]
        }
      ]
    },
    {
      "cell_type": "code",
      "metadata": {
        "id": "iots5O73SXOA"
      },
      "source": [
        ""
      ],
      "execution_count": null,
      "outputs": []
    }
  ]
}